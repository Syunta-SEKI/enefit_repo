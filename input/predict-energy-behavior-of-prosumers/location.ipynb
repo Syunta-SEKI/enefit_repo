{
 "cells": [
  {
   "cell_type": "code",
   "execution_count": 1,
   "metadata": {},
   "outputs": [
    {
     "name": "stdout",
     "output_type": "stream",
     "text": [
      "  county_name  longitude  latitude  county\n",
      "0         NaN       21.7      57.6     NaN\n",
      "1         NaN       21.7      57.9     NaN\n",
      "2         NaN       21.7      58.2     NaN\n",
      "3         NaN       21.7      58.5     NaN\n",
      "4         NaN       21.7      58.8     NaN\n"
     ]
    }
   ],
   "source": [
    "import pandas as pd\n",
    "df_location = pd.read_csv(\"weather_station_to_county_mapping.csv\")\n",
    "print(df_location.head())\n"
   ]
  }
 ],
 "metadata": {
  "kernelspec": {
   "display_name": "base",
   "language": "python",
   "name": "python3"
  },
  "language_info": {
   "codemirror_mode": {
    "name": "ipython",
    "version": 3
   },
   "file_extension": ".py",
   "mimetype": "text/x-python",
   "name": "python",
   "nbconvert_exporter": "python",
   "pygments_lexer": "ipython3",
   "version": "3.11.6"
  }
 },
 "nbformat": 4,
 "nbformat_minor": 2
}
