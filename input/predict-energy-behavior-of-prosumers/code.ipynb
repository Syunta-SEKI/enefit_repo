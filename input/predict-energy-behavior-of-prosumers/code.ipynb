{
 "cells": [
  {
   "cell_type": "code",
   "execution_count": 1,
   "id": "d4f84c19",
   "metadata": {
    "_cell_guid": "b1076dfc-b9ad-4769-8c92-a6c4dae69d19",
    "_uuid": "8f2839f25d086af736a60e9eeb907d3b93b6e0e5",
    "execution": {
     "iopub.execute_input": "2023-11-20T11:30:06.559833Z",
     "iopub.status.busy": "2023-11-20T11:30:06.558984Z",
     "iopub.status.idle": "2023-11-20T11:30:11.908201Z",
     "shell.execute_reply": "2023-11-20T11:30:11.907007Z"
    },
    "papermill": {
     "duration": 5.363547,
     "end_time": "2023-11-20T11:30:11.911322",
     "exception": false,
     "start_time": "2023-11-20T11:30:06.547775",
     "status": "completed"
    },
    "tags": []
   },
   "outputs": [],
   "source": [
    "import os\n",
    "import gc\n",
    "import pickle\n",
    "\n",
    "import numpy as np\n",
    "import pandas as pd\n",
    "import polars as pl\n",
    "\n",
    "from sklearn.model_selection import cross_val_score, cross_validate\n",
    "from sklearn.metrics import mean_absolute_error\n",
    "from sklearn.compose import TransformedTargetRegressor\n",
    "from sklearn.ensemble import VotingRegressor\n",
    "\n",
    "import lightgbm as lgb\n",
    "\n",
    "import optuna"
   ]
  },
  {
   "cell_type": "code",
   "execution_count": 2,
   "id": "6d9f5e71",
   "metadata": {
    "execution": {
     "iopub.execute_input": "2023-11-20T11:30:11.928278Z",
     "iopub.status.busy": "2023-11-20T11:30:11.927824Z",
     "iopub.status.idle": "2023-11-20T11:30:11.937067Z",
     "shell.execute_reply": "2023-11-20T11:30:11.935650Z"
    },
    "papermill": {
     "duration": 0.021317,
     "end_time": "2023-11-20T11:30:11.940130",
     "exception": false,
     "start_time": "2023-11-20T11:30:11.918813",
     "status": "completed"
    },
    "tags": []
   },
   "outputs": [],
   "source": [
    "class MonthlyKFold:\n",
    "    def __init__(self, n_splits=3):\n",
    "        self.n_splits = n_splits\n",
    "        \n",
    "    def split(self, X, y, groups=None):\n",
    "        dates = 12 * X[\"year\"] + X[\"month\"]\n",
    "        timesteps = sorted(dates.unique().tolist())\n",
    "        X = X.reset_index()\n",
    "        \n",
    "        for t in timesteps[-self.n_splits:]:\n",
    "            idx_train = X[dates.values < t].index\n",
    "            idx_test = X[dates.values == t].index\n",
    "            \n",
    "            yield idx_train, idx_test\n",
    "            \n",
    "    def get_n_splits(self, X, y, groups=None):\n",
    "        return self.n_splits"
   ]
  },
  {
   "cell_type": "code",
   "execution_count": 3,
   "id": "3012ef24",
   "metadata": {
    "execution": {
     "iopub.execute_input": "2023-11-20T11:30:11.957112Z",
     "iopub.status.busy": "2023-11-20T11:30:11.956607Z",
     "iopub.status.idle": "2023-11-20T11:30:11.993641Z",
     "shell.execute_reply": "2023-11-20T11:30:11.992432Z"
    },
    "papermill": {
     "duration": 0.04943,
     "end_time": "2023-11-20T11:30:11.996720",
     "exception": false,
     "start_time": "2023-11-20T11:30:11.947290",
     "status": "completed"
    },
    "tags": []
   },
   "outputs": [],
   "source": [
    "def feature_eng(df_data, df_client, df_gas, df_electricity, df_forecast, df_historical, df_location, df_target):\n",
    "    df_data = (\n",
    "        df_data\n",
    "        .with_columns(\n",
    "            pl.col(\"datetime\").cast(pl.Date).alias(\"date\"),\n",
    "        )\n",
    "    )\n",
    "    \n",
    "    df_client = (\n",
    "        df_client\n",
    "        .with_columns(\n",
    "            (pl.col(\"date\") + pl.duration(days=2)).cast(pl.Date)\n",
    "        )\n",
    "    )\n",
    "    \n",
    "    df_gas = (\n",
    "        df_gas\n",
    "        .rename({\"forecast_date\": \"date\"})\n",
    "        .with_columns(\n",
    "            (pl.col(\"date\") + pl.duration(days=1)).cast(pl.Date)\n",
    "        )\n",
    "    )\n",
    "    \n",
    "    df_electricity = (\n",
    "        df_electricity\n",
    "        .rename({\"forecast_date\": \"datetime\"})\n",
    "        .with_columns(\n",
    "            pl.col(\"datetime\") + pl.duration(days=1)\n",
    "        )\n",
    "    )\n",
    "    \n",
    "    df_location = (\n",
    "        df_location\n",
    "        .with_columns(\n",
    "            pl.col(\"latitude\").cast(pl.datatypes.Float32),\n",
    "            pl.col(\"longitude\").cast(pl.datatypes.Float32)\n",
    "        )\n",
    "    )\n",
    "    \n",
    "    df_forecast = (\n",
    "        df_forecast\n",
    "        .rename({\"forecast_datetime\": \"datetime\"})\n",
    "        .with_columns(\n",
    "            pl.col(\"latitude\").cast(pl.datatypes.Float32),\n",
    "            pl.col(\"longitude\").cast(pl.datatypes.Float32),\n",
    "            pl.col('datetime').dt.convert_time_zone(\"Europe/Bucharest\").dt.replace_time_zone(None).cast(pl.Datetime(\"us\")),\n",
    "        )\n",
    "        .join(df_location, how=\"left\", on=[\"longitude\", \"latitude\"])\n",
    "        .drop(\"longitude\", \"latitude\")\n",
    "    )\n",
    "    \n",
    "    df_historical = (\n",
    "        df_historical\n",
    "        .with_columns(\n",
    "            pl.col(\"latitude\").cast(pl.datatypes.Float32),\n",
    "            pl.col(\"longitude\").cast(pl.datatypes.Float32),\n",
    "            pl.col(\"datetime\") + pl.duration(hours=37)\n",
    "        )\n",
    "        .join(df_location, how=\"left\", on=[\"longitude\", \"latitude\"])\n",
    "        .drop(\"longitude\", \"latitude\")\n",
    "    )\n",
    "    \n",
    "    df_forecast_date = (\n",
    "        df_forecast\n",
    "        .group_by(\"datetime\").mean()\n",
    "        .drop(\"county\")\n",
    "    )\n",
    "    \n",
    "    df_forecast_local = (\n",
    "        df_forecast\n",
    "        .filter(pl.col(\"county\").is_not_null())\n",
    "        .group_by(\"county\", \"datetime\").mean()\n",
    "    )\n",
    "    \n",
    "    df_historical_date = (\n",
    "        df_historical\n",
    "        .group_by(\"datetime\").mean()\n",
    "        .drop(\"county\")\n",
    "    )\n",
    "    \n",
    "    df_historical_local = (\n",
    "        df_historical\n",
    "        .filter(pl.col(\"county\").is_not_null())\n",
    "        .group_by(\"county\", \"datetime\").mean()\n",
    "    )\n",
    "    \n",
    "    df_data = (\n",
    "        df_data\n",
    "        .join(df_gas, on=\"date\", how=\"left\")\n",
    "        .join(df_client, on=[\"county\", \"is_business\", \"product_type\", \"date\"], how=\"left\")\n",
    "        .join(df_electricity, on=\"datetime\", how=\"left\")\n",
    "        \n",
    "        .join(df_forecast_date, on=\"datetime\", how=\"left\", suffix=\"_fd\")\n",
    "        .join(df_forecast_local, on=[\"county\", \"datetime\"], how=\"left\", suffix=\"_fl\")\n",
    "        .join(df_historical_date, on=\"datetime\", how=\"left\", suffix=\"_hd\")\n",
    "        .join(df_historical_local, on=[\"county\", \"datetime\"], how=\"left\", suffix=\"_hl\")\n",
    "        \n",
    "        .join(df_forecast_date.with_columns(pl.col(\"datetime\") + pl.duration(days=7)), on=\"datetime\", how=\"left\", suffix=\"_fdw\")\n",
    "        .join(df_forecast_local.with_columns(pl.col(\"datetime\") + pl.duration(days=7)), on=[\"county\", \"datetime\"], how=\"left\", suffix=\"_flw\")\n",
    "        .join(df_historical_date.with_columns(pl.col(\"datetime\") + pl.duration(days=7)), on=\"datetime\", how=\"left\", suffix=\"_hdw\")\n",
    "        .join(df_historical_local.with_columns(pl.col(\"datetime\") + pl.duration(days=7)), on=[\"county\", \"datetime\"], how=\"left\", suffix=\"_hlw\")\n",
    "        \n",
    "        .join(df_target.with_columns(pl.col(\"datetime\") + pl.duration(days=2)).rename({\"target\": \"target_1\"}), on=[\"county\", \"is_business\", \"product_type\", \"is_consumption\", \"datetime\"], how=\"left\")\n",
    "        .join(df_target.with_columns(pl.col(\"datetime\") + pl.duration(days=3)).rename({\"target\": \"target_2\"}), on=[\"county\", \"is_business\", \"product_type\", \"is_consumption\", \"datetime\"], how=\"left\")\n",
    "        .join(df_target.with_columns(pl.col(\"datetime\") + pl.duration(days=4)).rename({\"target\": \"target_3\"}), on=[\"county\", \"is_business\", \"product_type\", \"is_consumption\", \"datetime\"], how=\"left\")\n",
    "        .join(df_target.with_columns(pl.col(\"datetime\") + pl.duration(days=5)).rename({\"target\": \"target_4\"}), on=[\"county\", \"is_business\", \"product_type\", \"is_consumption\", \"datetime\"], how=\"left\")\n",
    "        .join(df_target.with_columns(pl.col(\"datetime\") + pl.duration(days=6)).rename({\"target\": \"target_5\"}), on=[\"county\", \"is_business\", \"product_type\", \"is_consumption\", \"datetime\"], how=\"left\")\n",
    "        .join(df_target.with_columns(pl.col(\"datetime\") + pl.duration(days=7)).rename({\"target\": \"target_6\"}), on=[\"county\", \"is_business\", \"product_type\", \"is_consumption\", \"datetime\"], how=\"left\")\n",
    "        .join(df_target.with_columns(pl.col(\"datetime\") + pl.duration(days=14)).rename({\"target\": \"target_7\"}), on=[\"county\", \"is_business\", \"product_type\", \"is_consumption\", \"datetime\"], how=\"left\")\n",
    "        \n",
    "        .with_columns(\n",
    "            pl.col(\"datetime\").dt.ordinal_day().alias(\"dayofyear\"),\n",
    "            pl.col(\"datetime\").dt.hour().alias(\"hour\"),\n",
    "            pl.col(\"datetime\").dt.day().alias(\"day\"),\n",
    "            pl.col(\"datetime\").dt.weekday().alias(\"weekday\"),\n",
    "            pl.col(\"datetime\").dt.month().alias(\"month\"),\n",
    "            pl.col(\"datetime\").dt.year().alias(\"year\"),\n",
    "        )\n",
    "        \n",
    "        .with_columns(\n",
    "            pl.concat_str(\"county\", \"is_business\", \"product_type\", \"is_consumption\", separator=\"_\").alias(\"category_1\"),\n",
    "        )\n",
    "        \n",
    "        .with_columns(\n",
    "            (np.pi * pl.col(\"dayofyear\") / 183).sin().alias(\"sin(dayofyear)\"),\n",
    "            (np.pi * pl.col(\"dayofyear\") / 183).cos().alias(\"cos(dayofyear)\"),\n",
    "            (np.pi * pl.col(\"hour\") / 12).sin().alias(\"sin(hour)\"),\n",
    "            (np.pi * pl.col(\"hour\") / 12).cos().alias(\"cos(hour)\"),\n",
    "        )\n",
    "        \n",
    "        .with_columns(\n",
    "            pl.col(pl.Float64).cast(pl.Float32),\n",
    "        )\n",
    "        \n",
    "        .drop(\"date\", \"datetime\", \"hour\", \"dayofyear\")\n",
    "    )\n",
    "    \n",
    "    return df_data"
   ]
  },
  {
   "cell_type": "code",
   "execution_count": 4,
   "id": "8a7d2f5b",
   "metadata": {
    "execution": {
     "iopub.execute_input": "2023-11-20T11:30:12.014117Z",
     "iopub.status.busy": "2023-11-20T11:30:12.013694Z",
     "iopub.status.idle": "2023-11-20T11:30:12.023068Z",
     "shell.execute_reply": "2023-11-20T11:30:12.022125Z"
    },
    "papermill": {
     "duration": 0.020938,
     "end_time": "2023-11-20T11:30:12.025588",
     "exception": false,
     "start_time": "2023-11-20T11:30:12.004650",
     "status": "completed"
    },
    "tags": []
   },
   "outputs": [],
   "source": [
    "def to_pandas(X, y=None):\n",
    "    cat_cols = [\"county\", \"is_business\", \"product_type\", \"is_consumption\", \"category_1\"]\n",
    "    \n",
    "    if y is not None:\n",
    "        df = pd.concat([X.to_pandas(), y.to_pandas()], axis=1)\n",
    "    else:\n",
    "        df = X.to_pandas()    \n",
    "    \n",
    "    df = df.set_index(\"row_id\")\n",
    "    df[cat_cols] = df[cat_cols].astype(\"category\")\n",
    "    \n",
    "    df[\"target_mean\"] = df[[f\"target_{i}\" for i in range(1, 7)]].mean(1)\n",
    "    df[\"target_std\"] = df[[f\"target_{i}\" for i in range(1, 7)]].std(1)\n",
    "    df[\"target_ratio\"] = df[\"target_6\"] / (df[\"target_7\"] + 1e-3)\n",
    "    \n",
    "    return df"
   ]
  },
  {
   "cell_type": "code",
   "execution_count": 5,
   "metadata": {},
   "outputs": [],
   "source": [
    "#カスタム目的関数の実装\n",
    "#Fair関数\n",
    "def Fair(preds, dtrain):\n",
    "    x = preds-dtrain.labels()\n",
    "    c = 1.0\n",
    "    den = abs(x)+c\n",
    "    grad = c*x/den\n",
    "    hess =c*c/den**2\n",
    "    \n",
    "    return grad, hess\n",
    "\n",
    "# Psuedo_Hunber関数\n",
    "def psuedo_huber(preds, dtrain):\n",
    "    d = preds-dtrain.labels()\n",
    "    delta = 1.0\n",
    "    scale = 1+(d/delta)**2\n",
    "    scale_sqrt = np.sqrt(scale)\n",
    "    grad = d/scale_sqrt\n",
    "    hess = 1/scale/scale_sqrt\n",
    "    return grad, hess\n",
    "    \n",
    "    \n"
   ]
  },
  {
   "cell_type": "code",
   "execution_count": 6,
   "id": "204fcfa8",
   "metadata": {
    "execution": {
     "iopub.execute_input": "2023-11-20T11:30:12.043197Z",
     "iopub.status.busy": "2023-11-20T11:30:12.042404Z",
     "iopub.status.idle": "2023-11-20T11:30:12.051802Z",
     "shell.execute_reply": "2023-11-20T11:30:12.050480Z"
    },
    "papermill": {
     "duration": 0.021154,
     "end_time": "2023-11-20T11:30:12.054492",
     "exception": false,
     "start_time": "2023-11-20T11:30:12.033338",
     "status": "completed"
    },
    "tags": []
   },
   "outputs": [],
   "source": [
    "def lgb_objective(trial):\n",
    "    params = {\n",
    "        'n_iter'           : 1000,\n",
    "        'verbose'          : -1,\n",
    "        'random_state'     : 42,\n",
    "        'learning_rate'    : trial.suggest_float('learning_rate', 0.01, 0.1),\n",
    "        'colsample_bytree' : trial.suggest_float('colsample_bytree', 0.5, 1.0),\n",
    "        'colsample_bynode' : trial.suggest_float('colsample_bynode', 0.5, 1.0),\n",
    "        'lambda_l1'        : trial.suggest_float('lambda_l1', 1e-2, 10.0),\n",
    "        'lambda_l2'        : trial.suggest_float('lambda_l2', 1e-2, 10.0),\n",
    "        'min_data_in_leaf' : trial.suggest_int('min_data_in_leaf', 4, 256),\n",
    "        'max_depth'        : trial.suggest_int('max_depth', 5, 10),\n",
    "        'max_bin'          : trial.suggest_int('max_bin', 32, 1024),\n",
    "    }\n",
    "    \n",
    "    # 損失関数を選択\n",
    "    objective_choice = trial.suggest_categorical('objective', ['regression', 'regression_l1', 'huber', 'fair'])\n",
    "    params['objective'] = objective_choice\n",
    "    \n",
    "    model  = lgb.LGBMRegressor(**params)\n",
    "    X, y   = df_train.drop(columns=[\"target\"]), df_train[\"target\"]\n",
    "    cv     = MonthlyKFold(1)\n",
    "    scores = cross_val_score(model, X, y, cv=cv, scoring='neg_mean_absolute_error')\n",
    "    \n",
    "    return -1 * np.mean(scores)"
   ]
  },
  {
   "cell_type": "markdown",
   "id": "8d04b868",
   "metadata": {
    "papermill": {
     "duration": 0.00678,
     "end_time": "2023-11-20T11:30:12.068490",
     "exception": false,
     "start_time": "2023-11-20T11:30:12.061710",
     "status": "completed"
    },
    "tags": []
   },
   "source": [
    "### Global Variables"
   ]
  },
  {
   "cell_type": "code",
   "execution_count": 7,
   "id": "6775e2d6",
   "metadata": {
    "execution": {
     "iopub.execute_input": "2023-11-20T11:30:12.084924Z",
     "iopub.status.busy": "2023-11-20T11:30:12.084406Z",
     "iopub.status.idle": "2023-11-20T11:30:12.093861Z",
     "shell.execute_reply": "2023-11-20T11:30:12.092510Z"
    },
    "papermill": {
     "duration": 0.020569,
     "end_time": "2023-11-20T11:30:12.096257",
     "exception": false,
     "start_time": "2023-11-20T11:30:12.075688",
     "status": "completed"
    },
    "tags": []
   },
   "outputs": [],
   "source": [
    "root = \"/Users/sekishunfutoshi/Desktop/kaggle/enefit/input/predict-energy-behavior-of-prosumers\"\n",
    "\n",
    "data_cols        = ['target', 'county', 'is_business', 'product_type', 'is_consumption', 'datetime', 'row_id']\n",
    "client_cols      = ['product_type', 'county', 'eic_count', 'installed_capacity', 'is_business', 'date']\n",
    "gas_cols         = ['forecast_date', 'lowest_price_per_mwh', 'highest_price_per_mwh']\n",
    "electricity_cols = ['forecast_date', 'euros_per_mwh']\n",
    "forecast_cols    = ['latitude', 'longitude', 'hours_ahead', 'temperature', 'dewpoint', 'cloudcover_high', 'cloudcover_low', 'cloudcover_mid', 'cloudcover_total', '10_metre_u_wind_component', '10_metre_v_wind_component', 'forecast_datetime', 'direct_solar_radiation', 'surface_solar_radiation_downwards', 'snowfall', 'total_precipitation']\n",
    "historical_cols  = ['datetime', 'temperature', 'dewpoint', 'rain', 'snowfall', 'surface_pressure','cloudcover_total','cloudcover_low','cloudcover_mid','cloudcover_high','windspeed_10m','winddirection_10m','shortwave_radiation','direct_solar_radiation','diffuse_radiation','latitude','longitude']\n",
    "location_cols    = ['longitude', 'latitude', 'county']\n",
    "target_cols      = ['target', 'county', 'is_business', 'product_type', 'is_consumption', 'datetime']\n",
    "\n",
    "save_path = None\n",
    "load_path = None"
   ]
  },
  {
   "cell_type": "markdown",
   "id": "bd6508d4",
   "metadata": {
    "papermill": {
     "duration": 0.006897,
     "end_time": "2023-11-20T11:30:12.110336",
     "exception": false,
     "start_time": "2023-11-20T11:30:12.103439",
     "status": "completed"
    },
    "tags": []
   },
   "source": [
    "### Data I/O"
   ]
  },
  {
   "cell_type": "code",
   "execution_count": 8,
   "id": "4681f3d8",
   "metadata": {
    "execution": {
     "iopub.execute_input": "2023-11-20T11:30:12.126948Z",
     "iopub.status.busy": "2023-11-20T11:30:12.126449Z",
     "iopub.status.idle": "2023-11-20T11:30:25.761569Z",
     "shell.execute_reply": "2023-11-20T11:30:25.760541Z"
    },
    "papermill": {
     "duration": 13.646947,
     "end_time": "2023-11-20T11:30:25.764492",
     "exception": false,
     "start_time": "2023-11-20T11:30:12.117545",
     "status": "completed"
    },
    "tags": []
   },
   "outputs": [],
   "source": [
    "df_data        = pl.read_csv(os.path.join(root, \"train.csv\"), columns=data_cols, try_parse_dates=True)\n",
    "df_client      = pl.read_csv(os.path.join(root, \"client.csv\"), columns=client_cols, try_parse_dates=True)\n",
    "df_gas         = pl.read_csv(os.path.join(root, \"gas_prices.csv\"), columns=gas_cols, try_parse_dates=True)\n",
    "df_electricity = pl.read_csv(os.path.join(root, \"electricity_prices.csv\"), columns=electricity_cols, try_parse_dates=True)\n",
    "df_forecast    = pl.read_csv(os.path.join(root, \"forecast_weather.csv\"), columns=forecast_cols, try_parse_dates=True)\n",
    "df_historical  = pl.read_csv(os.path.join(root, \"historical_weather.csv\"), columns=historical_cols, try_parse_dates=True)\n",
    "df_location    = pl.read_csv(os.path.join(root, \"weather_station_to_county_mapping.csv\"), columns=location_cols, try_parse_dates=True)\n",
    "df_target      = df_data.select(target_cols)\n",
    "\n",
    "schema_data        = df_data.schema\n",
    "schema_client      = df_client.schema\n",
    "schema_gas         = df_gas.schema\n",
    "schema_electricity = df_electricity.schema\n",
    "schema_forecast    = df_forecast.schema\n",
    "schema_historical  = df_historical.schema\n",
    "schema_target      = df_target.schema"
   ]
  },
  {
   "cell_type": "markdown",
   "id": "30efde40",
   "metadata": {
    "papermill": {
     "duration": 0.007061,
     "end_time": "2023-11-20T11:30:25.779003",
     "exception": false,
     "start_time": "2023-11-20T11:30:25.771942",
     "status": "completed"
    },
    "tags": []
   },
   "source": [
    "### Feature Engineering"
   ]
  },
  {
   "cell_type": "code",
   "execution_count": 9,
   "id": "71306af9",
   "metadata": {
    "execution": {
     "iopub.execute_input": "2023-11-20T11:30:25.795783Z",
     "iopub.status.busy": "2023-11-20T11:30:25.795350Z",
     "iopub.status.idle": "2023-11-20T11:30:43.078071Z",
     "shell.execute_reply": "2023-11-20T11:30:43.076424Z"
    },
    "papermill": {
     "duration": 17.29501,
     "end_time": "2023-11-20T11:30:43.081312",
     "exception": false,
     "start_time": "2023-11-20T11:30:25.786302",
     "status": "completed"
    },
    "tags": []
   },
   "outputs": [],
   "source": [
    "X, y = df_data.drop(\"target\"), df_data.select(\"target\")\n",
    "\n",
    "X = feature_eng(X, df_client, df_gas, df_electricity, df_forecast, df_historical, df_location, df_target)\n",
    "\n",
    "df_train = to_pandas(X, y)"
   ]
  },
  {
   "cell_type": "code",
   "execution_count": 10,
   "id": "8843dee2",
   "metadata": {
    "execution": {
     "iopub.execute_input": "2023-11-20T11:30:43.098897Z",
     "iopub.status.busy": "2023-11-20T11:30:43.098386Z",
     "iopub.status.idle": "2023-11-20T11:30:43.990275Z",
     "shell.execute_reply": "2023-11-20T11:30:43.989024Z"
    },
    "papermill": {
     "duration": 0.90426,
     "end_time": "2023-11-20T11:30:43.993505",
     "exception": false,
     "start_time": "2023-11-20T11:30:43.089245",
     "status": "completed"
    },
    "tags": []
   },
   "outputs": [],
   "source": [
    "df_train = df_train[df_train[\"target\"].notnull() & df_train[\"year\"].gt(2021)]"
   ]
  },
  {
   "cell_type": "code",
   "execution_count": 11,
   "id": "00cec537",
   "metadata": {
    "execution": {
     "iopub.execute_input": "2023-11-20T11:30:44.012866Z",
     "iopub.status.busy": "2023-11-20T11:30:44.011763Z",
     "iopub.status.idle": "2023-11-20T11:30:44.046234Z",
     "shell.execute_reply": "2023-11-20T11:30:44.044681Z"
    },
    "papermill": {
     "duration": 0.04794,
     "end_time": "2023-11-20T11:30:44.049737",
     "exception": false,
     "start_time": "2023-11-20T11:30:44.001797",
     "status": "completed"
    },
    "tags": []
   },
   "outputs": [
    {
     "name": "stdout",
     "output_type": "stream",
     "text": [
      "<class 'pandas.core.frame.DataFrame'>\n",
      "Index: 1651902 entries, 366048 to 2018351\n",
      "Data columns (total 137 columns):\n",
      " #    Column                                 Dtype   \n",
      "---   ------                                 -----   \n",
      " 0    county                                 category\n",
      " 1    is_business                            category\n",
      " 2    product_type                           category\n",
      " 3    is_consumption                         category\n",
      " 4    lowest_price_per_mwh                   float32 \n",
      " 5    highest_price_per_mwh                  float32 \n",
      " 6    eic_count                              float64 \n",
      " 7    installed_capacity                     float32 \n",
      " 8    euros_per_mwh                          float32 \n",
      " 9    hours_ahead                            float32 \n",
      " 10   temperature                            float32 \n",
      " 11   dewpoint                               float32 \n",
      " 12   cloudcover_high                        float32 \n",
      " 13   cloudcover_low                         float32 \n",
      " 14   cloudcover_mid                         float32 \n",
      " 15   cloudcover_total                       float32 \n",
      " 16   10_metre_u_wind_component              float32 \n",
      " 17   10_metre_v_wind_component              float32 \n",
      " 18   direct_solar_radiation                 float32 \n",
      " 19   surface_solar_radiation_downwards      float32 \n",
      " 20   snowfall                               float32 \n",
      " 21   total_precipitation                    float32 \n",
      " 22   hours_ahead_fl                         float32 \n",
      " 23   temperature_fl                         float32 \n",
      " 24   dewpoint_fl                            float32 \n",
      " 25   cloudcover_high_fl                     float32 \n",
      " 26   cloudcover_low_fl                      float32 \n",
      " 27   cloudcover_mid_fl                      float32 \n",
      " 28   cloudcover_total_fl                    float32 \n",
      " 29   10_metre_u_wind_component_fl           float32 \n",
      " 30   10_metre_v_wind_component_fl           float32 \n",
      " 31   direct_solar_radiation_fl              float32 \n",
      " 32   surface_solar_radiation_downwards_fl   float32 \n",
      " 33   snowfall_fl                            float32 \n",
      " 34   total_precipitation_fl                 float32 \n",
      " 35   temperature_hd                         float32 \n",
      " 36   dewpoint_hd                            float32 \n",
      " 37   rain                                   float32 \n",
      " 38   snowfall_hd                            float32 \n",
      " 39   surface_pressure                       float32 \n",
      " 40   cloudcover_total_hd                    float32 \n",
      " 41   cloudcover_low_hd                      float32 \n",
      " 42   cloudcover_mid_hd                      float32 \n",
      " 43   cloudcover_high_hd                     float32 \n",
      " 44   windspeed_10m                          float32 \n",
      " 45   winddirection_10m                      float32 \n",
      " 46   shortwave_radiation                    float32 \n",
      " 47   direct_solar_radiation_hd              float32 \n",
      " 48   diffuse_radiation                      float32 \n",
      " 49   temperature_hl                         float32 \n",
      " 50   dewpoint_hl                            float32 \n",
      " 51   rain_hl                                float32 \n",
      " 52   snowfall_hl                            float32 \n",
      " 53   surface_pressure_hl                    float32 \n",
      " 54   cloudcover_total_hl                    float32 \n",
      " 55   cloudcover_low_hl                      float32 \n",
      " 56   cloudcover_mid_hl                      float32 \n",
      " 57   cloudcover_high_hl                     float32 \n",
      " 58   windspeed_10m_hl                       float32 \n",
      " 59   winddirection_10m_hl                   float32 \n",
      " 60   shortwave_radiation_hl                 float32 \n",
      " 61   direct_solar_radiation_hl              float32 \n",
      " 62   diffuse_radiation_hl                   float32 \n",
      " 63   hours_ahead_fdw                        float32 \n",
      " 64   temperature_fdw                        float32 \n",
      " 65   dewpoint_fdw                           float32 \n",
      " 66   cloudcover_high_fdw                    float32 \n",
      " 67   cloudcover_low_fdw                     float32 \n",
      " 68   cloudcover_mid_fdw                     float32 \n",
      " 69   cloudcover_total_fdw                   float32 \n",
      " 70   10_metre_u_wind_component_fdw          float32 \n",
      " 71   10_metre_v_wind_component_fdw          float32 \n",
      " 72   direct_solar_radiation_fdw             float32 \n",
      " 73   surface_solar_radiation_downwards_fdw  float32 \n",
      " 74   snowfall_fdw                           float32 \n",
      " 75   total_precipitation_fdw                float32 \n",
      " 76   hours_ahead_flw                        float32 \n",
      " 77   temperature_flw                        float32 \n",
      " 78   dewpoint_flw                           float32 \n",
      " 79   cloudcover_high_flw                    float32 \n",
      " 80   cloudcover_low_flw                     float32 \n",
      " 81   cloudcover_mid_flw                     float32 \n",
      " 82   cloudcover_total_flw                   float32 \n",
      " 83   10_metre_u_wind_component_flw          float32 \n",
      " 84   10_metre_v_wind_component_flw          float32 \n",
      " 85   direct_solar_radiation_flw             float32 \n",
      " 86   surface_solar_radiation_downwards_flw  float32 \n",
      " 87   snowfall_flw                           float32 \n",
      " 88   total_precipitation_flw                float32 \n",
      " 89   temperature_hdw                        float32 \n",
      " 90   dewpoint_hdw                           float32 \n",
      " 91   rain_hdw                               float32 \n",
      " 92   snowfall_hdw                           float32 \n",
      " 93   surface_pressure_hdw                   float32 \n",
      " 94   cloudcover_total_hdw                   float32 \n",
      " 95   cloudcover_low_hdw                     float32 \n",
      " 96   cloudcover_mid_hdw                     float32 \n",
      " 97   cloudcover_high_hdw                    float32 \n",
      " 98   windspeed_10m_hdw                      float32 \n",
      " 99   winddirection_10m_hdw                  float32 \n",
      " 100  shortwave_radiation_hdw                float32 \n",
      " 101  direct_solar_radiation_hdw             float32 \n",
      " 102  diffuse_radiation_hdw                  float32 \n",
      " 103  temperature_hlw                        float32 \n",
      " 104  dewpoint_hlw                           float32 \n",
      " 105  rain_hlw                               float32 \n",
      " 106  snowfall_hlw                           float32 \n",
      " 107  surface_pressure_hlw                   float32 \n",
      " 108  cloudcover_total_hlw                   float32 \n",
      " 109  cloudcover_low_hlw                     float32 \n",
      " 110  cloudcover_mid_hlw                     float32 \n",
      " 111  cloudcover_high_hlw                    float32 \n",
      " 112  windspeed_10m_hlw                      float32 \n",
      " 113  winddirection_10m_hlw                  float32 \n",
      " 114  shortwave_radiation_hlw                float32 \n",
      " 115  direct_solar_radiation_hlw             float32 \n",
      " 116  diffuse_radiation_hlw                  float32 \n",
      " 117  target_1                               float32 \n",
      " 118  target_2                               float32 \n",
      " 119  target_3                               float32 \n",
      " 120  target_4                               float32 \n",
      " 121  target_5                               float32 \n",
      " 122  target_6                               float32 \n",
      " 123  target_7                               float32 \n",
      " 124  day                                    uint32  \n",
      " 125  weekday                                uint32  \n",
      " 126  month                                  uint32  \n",
      " 127  year                                   int32   \n",
      " 128  category_1                             category\n",
      " 129  sin(dayofyear)                         float32 \n",
      " 130  cos(dayofyear)                         float32 \n",
      " 131  sin(hour)                              float32 \n",
      " 132  cos(hour)                              float32 \n",
      " 133  target                                 float64 \n",
      " 134  target_mean                            float32 \n",
      " 135  target_std                             float32 \n",
      " 136  target_ratio                           float32 \n",
      "dtypes: category(5), float32(126), float64(2), int32(1), uint32(3)\n",
      "memory usage: 866.5 MB\n"
     ]
    }
   ],
   "source": [
    "df_train.info(verbose=True)"
   ]
  },
  {
   "cell_type": "markdown",
   "id": "ef7840ac",
   "metadata": {
    "papermill": {
     "duration": 0.007692,
     "end_time": "2023-11-20T11:30:44.065917",
     "exception": false,
     "start_time": "2023-11-20T11:30:44.058225",
     "status": "completed"
    },
    "tags": []
   },
   "source": [
    "### HyperParam Optimization"
   ]
  },
  {
   "cell_type": "code",
   "execution_count": 12,
   "id": "8f6d83ef",
   "metadata": {
    "execution": {
     "iopub.execute_input": "2023-11-20T11:30:44.084424Z",
     "iopub.status.busy": "2023-11-20T11:30:44.083901Z",
     "iopub.status.idle": "2023-11-20T11:30:44.089857Z",
     "shell.execute_reply": "2023-11-20T11:30:44.088573Z"
    },
    "papermill": {
     "duration": 0.01867,
     "end_time": "2023-11-20T11:30:44.092548",
     "exception": false,
     "start_time": "2023-11-20T11:30:44.073878",
     "status": "completed"
    },
    "tags": []
   },
   "outputs": [
    {
     "name": "stderr",
     "output_type": "stream",
     "text": [
      "[I 2023-12-19 21:30:30,018] A new study created in memory with name: Regressor\n"
     ]
    },
    {
     "data": {
      "application/vnd.jupyter.widget-view+json": {
       "model_id": "2b18a866082b4b11baa291838c1c4140",
       "version_major": 2,
       "version_minor": 0
      },
      "text/plain": [
       "  0%|          | 0/100 [00:00<?, ?it/s]"
      ]
     },
     "metadata": {},
     "output_type": "display_data"
    },
    {
     "name": "stderr",
     "output_type": "stream",
     "text": [
      "/Users/sekishunfutoshi/anaconda3/lib/python3.11/site-packages/lightgbm/engine.py:172: UserWarning: Found `n_iter` in params. Will use it instead of argument\n",
      "  _log_warning(f\"Found `{alias}` in params. Will use it instead of argument\")\n"
     ]
    },
    {
     "name": "stdout",
     "output_type": "stream",
     "text": [
      "[I 2023-12-19 21:32:01,176] Trial 0 finished with value: 76.48091958419452 and parameters: {'learning_rate': 0.06465059072241587, 'colsample_bytree': 0.8748229841353639, 'colsample_bynode': 0.7108665539079917, 'lambda_l1': 4.0797071179005515, 'lambda_l2': 7.454904240186609, 'min_data_in_leaf': 88, 'max_depth': 9, 'max_bin': 63, 'objective': 'regression_l1'}. Best is trial 0 with value: 76.48091958419452.\n"
     ]
    },
    {
     "name": "stderr",
     "output_type": "stream",
     "text": [
      "/Users/sekishunfutoshi/anaconda3/lib/python3.11/site-packages/lightgbm/engine.py:172: UserWarning: Found `n_iter` in params. Will use it instead of argument\n",
      "  _log_warning(f\"Found `{alias}` in params. Will use it instead of argument\")\n"
     ]
    },
    {
     "name": "stdout",
     "output_type": "stream",
     "text": [
      "[I 2023-12-19 21:33:07,507] Trial 1 finished with value: 69.5552808406666 and parameters: {'learning_rate': 0.02219172909504387, 'colsample_bytree': 0.7554172950022503, 'colsample_bynode': 0.9880321290172285, 'lambda_l1': 8.353236959983276, 'lambda_l2': 1.4377678302467545, 'min_data_in_leaf': 112, 'max_depth': 7, 'max_bin': 52, 'objective': 'regression'}. Best is trial 1 with value: 69.5552808406666.\n"
     ]
    },
    {
     "name": "stderr",
     "output_type": "stream",
     "text": [
      "/Users/sekishunfutoshi/anaconda3/lib/python3.11/site-packages/lightgbm/engine.py:172: UserWarning: Found `n_iter` in params. Will use it instead of argument\n",
      "  _log_warning(f\"Found `{alias}` in params. Will use it instead of argument\")\n"
     ]
    },
    {
     "name": "stdout",
     "output_type": "stream",
     "text": [
      "[I 2023-12-19 21:34:30,531] Trial 2 finished with value: 65.40307941067593 and parameters: {'learning_rate': 0.09989744572126025, 'colsample_bytree': 0.6121522255874319, 'colsample_bynode': 0.6906084812223319, 'lambda_l1': 2.885467722168561, 'lambda_l2': 3.883115003529118, 'min_data_in_leaf': 144, 'max_depth': 7, 'max_bin': 984, 'objective': 'regression'}. Best is trial 2 with value: 65.40307941067593.\n"
     ]
    },
    {
     "name": "stderr",
     "output_type": "stream",
     "text": [
      "/Users/sekishunfutoshi/anaconda3/lib/python3.11/site-packages/lightgbm/engine.py:172: UserWarning: Found `n_iter` in params. Will use it instead of argument\n",
      "  _log_warning(f\"Found `{alias}` in params. Will use it instead of argument\")\n"
     ]
    },
    {
     "name": "stdout",
     "output_type": "stream",
     "text": [
      "[I 2023-12-19 21:36:18,283] Trial 3 finished with value: 367.33986826391003 and parameters: {'learning_rate': 0.06391453610188177, 'colsample_bytree': 0.6382778855972657, 'colsample_bynode': 0.7138064876223513, 'lambda_l1': 0.6259583226675436, 'lambda_l2': 4.329948934350033, 'min_data_in_leaf': 246, 'max_depth': 10, 'max_bin': 556, 'objective': 'huber'}. Best is trial 2 with value: 65.40307941067593.\n"
     ]
    },
    {
     "name": "stderr",
     "output_type": "stream",
     "text": [
      "/Users/sekishunfutoshi/anaconda3/lib/python3.11/site-packages/lightgbm/engine.py:172: UserWarning: Found `n_iter` in params. Will use it instead of argument\n",
      "  _log_warning(f\"Found `{alias}` in params. Will use it instead of argument\")\n"
     ]
    },
    {
     "name": "stdout",
     "output_type": "stream",
     "text": [
      "[I 2023-12-19 21:37:25,265] Trial 4 finished with value: 63.62048636081667 and parameters: {'learning_rate': 0.08665276668423388, 'colsample_bytree': 0.6595331374769489, 'colsample_bynode': 0.6633697537681054, 'lambda_l1': 2.4917053349053955, 'lambda_l2': 2.092600517890021, 'min_data_in_leaf': 247, 'max_depth': 9, 'max_bin': 288, 'objective': 'regression'}. Best is trial 4 with value: 63.62048636081667.\n"
     ]
    },
    {
     "name": "stderr",
     "output_type": "stream",
     "text": [
      "/Users/sekishunfutoshi/anaconda3/lib/python3.11/site-packages/lightgbm/engine.py:172: UserWarning: Found `n_iter` in params. Will use it instead of argument\n",
      "  _log_warning(f\"Found `{alias}` in params. Will use it instead of argument\")\n"
     ]
    },
    {
     "name": "stdout",
     "output_type": "stream",
     "text": [
      "[I 2023-12-19 21:39:22,373] Trial 5 finished with value: 78.7836864639944 and parameters: {'learning_rate': 0.01981782572118751, 'colsample_bytree': 0.5438522919530302, 'colsample_bynode': 0.8188020685414101, 'lambda_l1': 0.7950218842628548, 'lambda_l2': 8.236710470019885, 'min_data_in_leaf': 13, 'max_depth': 9, 'max_bin': 910, 'objective': 'regression_l1'}. Best is trial 4 with value: 63.62048636081667.\n"
     ]
    },
    {
     "name": "stderr",
     "output_type": "stream",
     "text": [
      "/Users/sekishunfutoshi/anaconda3/lib/python3.11/site-packages/lightgbm/engine.py:172: UserWarning: Found `n_iter` in params. Will use it instead of argument\n",
      "  _log_warning(f\"Found `{alias}` in params. Will use it instead of argument\")\n"
     ]
    },
    {
     "name": "stdout",
     "output_type": "stream",
     "text": [
      "[I 2023-12-19 21:41:31,065] Trial 6 finished with value: 69.54646206777048 and parameters: {'learning_rate': 0.08012760298491657, 'colsample_bytree': 0.6072062966264754, 'colsample_bynode': 0.5897300235295948, 'lambda_l1': 7.42576211368013, 'lambda_l2': 2.6386615139289766, 'min_data_in_leaf': 198, 'max_depth': 8, 'max_bin': 867, 'objective': 'regression_l1'}. Best is trial 4 with value: 63.62048636081667.\n"
     ]
    },
    {
     "name": "stderr",
     "output_type": "stream",
     "text": [
      "/Users/sekishunfutoshi/anaconda3/lib/python3.11/site-packages/lightgbm/engine.py:172: UserWarning: Found `n_iter` in params. Will use it instead of argument\n",
      "  _log_warning(f\"Found `{alias}` in params. Will use it instead of argument\")\n"
     ]
    },
    {
     "name": "stdout",
     "output_type": "stream",
     "text": [
      "[I 2023-12-19 21:43:19,882] Trial 7 finished with value: 378.41616480739714 and parameters: {'learning_rate': 0.049058513474590094, 'colsample_bytree': 0.6247288352393372, 'colsample_bynode': 0.5833384971119546, 'lambda_l1': 4.172596549039515, 'lambda_l2': 7.65445679033524, 'min_data_in_leaf': 241, 'max_depth': 10, 'max_bin': 579, 'objective': 'huber'}. Best is trial 4 with value: 63.62048636081667.\n"
     ]
    },
    {
     "name": "stderr",
     "output_type": "stream",
     "text": [
      "/Users/sekishunfutoshi/anaconda3/lib/python3.11/site-packages/lightgbm/engine.py:172: UserWarning: Found `n_iter` in params. Will use it instead of argument\n",
      "  _log_warning(f\"Found `{alias}` in params. Will use it instead of argument\")\n"
     ]
    },
    {
     "name": "stdout",
     "output_type": "stream",
     "text": [
      "[I 2023-12-19 21:44:29,265] Trial 8 finished with value: 67.81587936789185 and parameters: {'learning_rate': 0.035144301820152046, 'colsample_bytree': 0.7589321571671312, 'colsample_bynode': 0.9514384613418655, 'lambda_l1': 2.6579149750068187, 'lambda_l2': 1.8312836659733998, 'min_data_in_leaf': 74, 'max_depth': 5, 'max_bin': 299, 'objective': 'regression'}. Best is trial 4 with value: 63.62048636081667.\n"
     ]
    },
    {
     "name": "stderr",
     "output_type": "stream",
     "text": [
      "/Users/sekishunfutoshi/anaconda3/lib/python3.11/site-packages/lightgbm/engine.py:172: UserWarning: Found `n_iter` in params. Will use it instead of argument\n",
      "  _log_warning(f\"Found `{alias}` in params. Will use it instead of argument\")\n"
     ]
    },
    {
     "name": "stdout",
     "output_type": "stream",
     "text": [
      "[I 2023-12-19 21:45:42,729] Trial 9 finished with value: 68.15329174515344 and parameters: {'learning_rate': 0.03764733885043298, 'colsample_bytree': 0.8585245942672063, 'colsample_bynode': 0.7055628080031828, 'lambda_l1': 9.464543934565256, 'lambda_l2': 8.196507943828655, 'min_data_in_leaf': 244, 'max_depth': 5, 'max_bin': 489, 'objective': 'regression'}. Best is trial 4 with value: 63.62048636081667.\n"
     ]
    },
    {
     "name": "stderr",
     "output_type": "stream",
     "text": [
      "/Users/sekishunfutoshi/anaconda3/lib/python3.11/site-packages/lightgbm/engine.py:172: UserWarning: Found `n_iter` in params. Will use it instead of argument\n",
      "  _log_warning(f\"Found `{alias}` in params. Will use it instead of argument\")\n"
     ]
    },
    {
     "name": "stdout",
     "output_type": "stream",
     "text": [
      "[I 2023-12-19 21:47:03,554] Trial 10 finished with value: 4887.807039040603 and parameters: {'learning_rate': 0.09996052200131161, 'colsample_bytree': 0.9825100338820962, 'colsample_bynode': 0.5080509339818833, 'lambda_l1': 6.207585286901207, 'lambda_l2': 0.3051335939602433, 'min_data_in_leaf': 169, 'max_depth': 8, 'max_bin': 271, 'objective': 'fair'}. Best is trial 4 with value: 63.62048636081667.\n"
     ]
    },
    {
     "name": "stderr",
     "output_type": "stream",
     "text": [
      "/Users/sekishunfutoshi/anaconda3/lib/python3.11/site-packages/lightgbm/engine.py:172: UserWarning: Found `n_iter` in params. Will use it instead of argument\n",
      "  _log_warning(f\"Found `{alias}` in params. Will use it instead of argument\")\n"
     ]
    },
    {
     "name": "stdout",
     "output_type": "stream",
     "text": [
      "[I 2023-12-19 21:48:07,001] Trial 11 finished with value: 64.98110296573678 and parameters: {'learning_rate': 0.09914359797065074, 'colsample_bytree': 0.5022983030203444, 'colsample_bynode': 0.7985379925620711, 'lambda_l1': 2.583368018521911, 'lambda_l2': 3.6871219058058133, 'min_data_in_leaf': 163, 'max_depth': 7, 'max_bin': 756, 'objective': 'regression'}. Best is trial 4 with value: 63.62048636081667.\n"
     ]
    },
    {
     "name": "stderr",
     "output_type": "stream",
     "text": [
      "/Users/sekishunfutoshi/anaconda3/lib/python3.11/site-packages/lightgbm/engine.py:172: UserWarning: Found `n_iter` in params. Will use it instead of argument\n",
      "  _log_warning(f\"Found `{alias}` in params. Will use it instead of argument\")\n"
     ]
    },
    {
     "name": "stdout",
     "output_type": "stream",
     "text": [
      "[I 2023-12-19 21:49:12,480] Trial 12 finished with value: 65.24207051410292 and parameters: {'learning_rate': 0.08226877214236557, 'colsample_bytree': 0.5142360094644401, 'colsample_bynode': 0.8123778336517407, 'lambda_l1': 2.1421234755398313, 'lambda_l2': 5.215836492320907, 'min_data_in_leaf': 177, 'max_depth': 6, 'max_bin': 751, 'objective': 'regression'}. Best is trial 4 with value: 63.62048636081667.\n"
     ]
    },
    {
     "name": "stderr",
     "output_type": "stream",
     "text": [
      "/Users/sekishunfutoshi/anaconda3/lib/python3.11/site-packages/lightgbm/engine.py:172: UserWarning: Found `n_iter` in params. Will use it instead of argument\n",
      "  _log_warning(f\"Found `{alias}` in params. Will use it instead of argument\")\n"
     ]
    },
    {
     "name": "stdout",
     "output_type": "stream",
     "text": [
      "[I 2023-12-19 21:50:19,496] Trial 13 finished with value: 359.76480099138473 and parameters: {'learning_rate': 0.08743909107903082, 'colsample_bytree': 0.5154019237356368, 'colsample_bynode': 0.8261602208550946, 'lambda_l1': 5.241025102211335, 'lambda_l2': 3.08405553433385, 'min_data_in_leaf': 209, 'max_depth': 9, 'max_bin': 328, 'objective': 'fair'}. Best is trial 4 with value: 63.62048636081667.\n"
     ]
    },
    {
     "name": "stderr",
     "output_type": "stream",
     "text": [
      "/Users/sekishunfutoshi/anaconda3/lib/python3.11/site-packages/lightgbm/engine.py:172: UserWarning: Found `n_iter` in params. Will use it instead of argument\n",
      "  _log_warning(f\"Found `{alias}` in params. Will use it instead of argument\")\n"
     ]
    },
    {
     "name": "stdout",
     "output_type": "stream",
     "text": [
      "[I 2023-12-19 21:51:40,635] Trial 14 finished with value: 64.92338181097799 and parameters: {'learning_rate': 0.0889141842059998, 'colsample_bytree': 0.6698243452264915, 'colsample_bynode': 0.7726252811502977, 'lambda_l1': 1.529327834929103, 'lambda_l2': 5.529738437670693, 'min_data_in_leaf': 150, 'max_depth': 6, 'max_bin': 726, 'objective': 'regression'}. Best is trial 4 with value: 63.62048636081667.\n"
     ]
    },
    {
     "name": "stderr",
     "output_type": "stream",
     "text": [
      "/Users/sekishunfutoshi/anaconda3/lib/python3.11/site-packages/lightgbm/engine.py:172: UserWarning: Found `n_iter` in params. Will use it instead of argument\n",
      "  _log_warning(f\"Found `{alias}` in params. Will use it instead of argument\")\n"
     ]
    },
    {
     "name": "stdout",
     "output_type": "stream",
     "text": [
      "[I 2023-12-19 21:52:53,779] Trial 15 finished with value: 64.6992887257198 and parameters: {'learning_rate': 0.07047150949129645, 'colsample_bytree': 0.7080188486843904, 'colsample_bynode': 0.6241677423846607, 'lambda_l1': 0.09304450207105108, 'lambda_l2': 5.4810874443837845, 'min_data_in_leaf': 29, 'max_depth': 6, 'max_bin': 439, 'objective': 'regression'}. Best is trial 4 with value: 63.62048636081667.\n"
     ]
    },
    {
     "name": "stderr",
     "output_type": "stream",
     "text": [
      "/Users/sekishunfutoshi/anaconda3/lib/python3.11/site-packages/lightgbm/engine.py:172: UserWarning: Found `n_iter` in params. Will use it instead of argument\n",
      "  _log_warning(f\"Found `{alias}` in params. Will use it instead of argument\")\n"
     ]
    },
    {
     "name": "stdout",
     "output_type": "stream",
     "text": [
      "[I 2023-12-19 21:54:04,558] Trial 16 finished with value: 65.11028290904702 and parameters: {'learning_rate': 0.0698032170979479, 'colsample_bytree': 0.710399887615521, 'colsample_bynode': 0.6412141249048706, 'lambda_l1': 1.3251919889664439, 'lambda_l2': 9.936639573930316, 'min_data_in_leaf': 7, 'max_depth': 6, 'max_bin': 401, 'objective': 'regression'}. Best is trial 4 with value: 63.62048636081667.\n"
     ]
    },
    {
     "name": "stderr",
     "output_type": "stream",
     "text": [
      "/Users/sekishunfutoshi/anaconda3/lib/python3.11/site-packages/lightgbm/engine.py:172: UserWarning: Found `n_iter` in params. Will use it instead of argument\n",
      "  _log_warning(f\"Found `{alias}` in params. Will use it instead of argument\")\n"
     ]
    },
    {
     "name": "stdout",
     "output_type": "stream",
     "text": [
      "[I 2023-12-19 21:55:33,039] Trial 17 finished with value: 359.0350087154837 and parameters: {'learning_rate': 0.07532291960313897, 'colsample_bytree': 0.6974424929448676, 'colsample_bynode': 0.6192211532447492, 'lambda_l1': 0.09242018558568077, 'lambda_l2': 5.914405953676937, 'min_data_in_leaf': 40, 'max_depth': 8, 'max_bin': 191, 'objective': 'huber'}. Best is trial 4 with value: 63.62048636081667.\n"
     ]
    },
    {
     "name": "stderr",
     "output_type": "stream",
     "text": [
      "/Users/sekishunfutoshi/anaconda3/lib/python3.11/site-packages/lightgbm/engine.py:172: UserWarning: Found `n_iter` in params. Will use it instead of argument\n",
      "  _log_warning(f\"Found `{alias}` in params. Will use it instead of argument\")\n"
     ]
    },
    {
     "name": "stdout",
     "output_type": "stream",
     "text": [
      "[I 2023-12-19 21:56:50,898] Trial 18 finished with value: 33968.03675091853 and parameters: {'learning_rate': 0.0609314964785552, 'colsample_bytree': 0.7798983856698113, 'colsample_bynode': 0.5343022495619539, 'lambda_l1': 0.010042464363004933, 'lambda_l2': 0.020430954765630283, 'min_data_in_leaf': 63, 'max_depth': 9, 'max_bin': 176, 'objective': 'fair'}. Best is trial 4 with value: 63.62048636081667.\n"
     ]
    },
    {
     "name": "stderr",
     "output_type": "stream",
     "text": [
      "/Users/sekishunfutoshi/anaconda3/lib/python3.11/site-packages/lightgbm/engine.py:172: UserWarning: Found `n_iter` in params. Will use it instead of argument\n",
      "  _log_warning(f\"Found `{alias}` in params. Will use it instead of argument\")\n"
     ]
    },
    {
     "name": "stdout",
     "output_type": "stream",
     "text": [
      "[I 2023-12-19 21:57:57,358] Trial 19 finished with value: 65.03769372316803 and parameters: {'learning_rate': 0.0736891350520276, 'colsample_bytree': 0.5707607953542075, 'colsample_bynode': 0.6541288616015215, 'lambda_l1': 1.5668815028546352, 'lambda_l2': 4.443829958052463, 'min_data_in_leaf': 112, 'max_depth': 6, 'max_bin': 451, 'objective': 'regression'}. Best is trial 4 with value: 63.62048636081667.\n"
     ]
    },
    {
     "name": "stderr",
     "output_type": "stream",
     "text": [
      "/Users/sekishunfutoshi/anaconda3/lib/python3.11/site-packages/lightgbm/engine.py:172: UserWarning: Found `n_iter` in params. Will use it instead of argument\n",
      "  _log_warning(f\"Found `{alias}` in params. Will use it instead of argument\")\n"
     ]
    },
    {
     "name": "stdout",
     "output_type": "stream",
     "text": [
      "[I 2023-12-19 21:59:17,101] Trial 20 finished with value: 65.74102445543663 and parameters: {'learning_rate': 0.05362410086253105, 'colsample_bytree': 0.6675050863376499, 'colsample_bynode': 0.5598920222639564, 'lambda_l1': 3.616590015491389, 'lambda_l2': 6.162433575455978, 'min_data_in_leaf': 40, 'max_depth': 5, 'max_bin': 641, 'objective': 'regression'}. Best is trial 4 with value: 63.62048636081667.\n"
     ]
    },
    {
     "name": "stderr",
     "output_type": "stream",
     "text": [
      "/Users/sekishunfutoshi/anaconda3/lib/python3.11/site-packages/lightgbm/engine.py:172: UserWarning: Found `n_iter` in params. Will use it instead of argument\n",
      "  _log_warning(f\"Found `{alias}` in params. Will use it instead of argument\")\n"
     ]
    },
    {
     "name": "stdout",
     "output_type": "stream",
     "text": [
      "[I 2023-12-19 22:00:39,522] Trial 21 finished with value: 64.4688220669771 and parameters: {'learning_rate': 0.08765356877358418, 'colsample_bytree': 0.6836364683507862, 'colsample_bynode': 0.7570951867990051, 'lambda_l1': 1.3380471170198178, 'lambda_l2': 4.8846905544374035, 'min_data_in_leaf': 212, 'max_depth': 6, 'max_bin': 696, 'objective': 'regression'}. Best is trial 4 with value: 63.62048636081667.\n"
     ]
    },
    {
     "name": "stderr",
     "output_type": "stream",
     "text": [
      "/Users/sekishunfutoshi/anaconda3/lib/python3.11/site-packages/lightgbm/engine.py:172: UserWarning: Found `n_iter` in params. Will use it instead of argument\n",
      "  _log_warning(f\"Found `{alias}` in params. Will use it instead of argument\")\n"
     ]
    },
    {
     "name": "stdout",
     "output_type": "stream",
     "text": [
      "[I 2023-12-19 22:01:53,951] Trial 22 finished with value: 65.5783024127456 and parameters: {'learning_rate': 0.08789637216907932, 'colsample_bytree': 0.7113842245281656, 'colsample_bynode': 0.6604734521783008, 'lambda_l1': 1.0598152675877688, 'lambda_l2': 4.507752030657134, 'min_data_in_leaf': 214, 'max_depth': 7, 'max_bin': 414, 'objective': 'regression'}. Best is trial 4 with value: 63.62048636081667.\n"
     ]
    },
    {
     "name": "stderr",
     "output_type": "stream",
     "text": [
      "/Users/sekishunfutoshi/anaconda3/lib/python3.11/site-packages/lightgbm/engine.py:172: UserWarning: Found `n_iter` in params. Will use it instead of argument\n",
      "  _log_warning(f\"Found `{alias}` in params. Will use it instead of argument\")\n"
     ]
    },
    {
     "name": "stdout",
     "output_type": "stream",
     "text": [
      "[I 2023-12-19 22:03:05,713] Trial 23 finished with value: 65.88917936805008 and parameters: {'learning_rate': 0.07833935222747064, 'colsample_bytree': 0.5851501876876875, 'colsample_bynode': 0.6152245072226018, 'lambda_l1': 1.8203574087178414, 'lambda_l2': 3.3029268773567297, 'min_data_in_leaf': 220, 'max_depth': 6, 'max_bin': 615, 'objective': 'regression'}. Best is trial 4 with value: 63.62048636081667.\n"
     ]
    },
    {
     "name": "stderr",
     "output_type": "stream",
     "text": [
      "/Users/sekishunfutoshi/anaconda3/lib/python3.11/site-packages/lightgbm/engine.py:172: UserWarning: Found `n_iter` in params. Will use it instead of argument\n",
      "  _log_warning(f\"Found `{alias}` in params. Will use it instead of argument\")\n"
     ]
    },
    {
     "name": "stdout",
     "output_type": "stream",
     "text": [
      "[I 2023-12-19 22:04:18,350] Trial 24 finished with value: 66.8952446175632 and parameters: {'learning_rate': 0.07191836073151314, 'colsample_bytree': 0.6584527646452828, 'colsample_bynode': 0.7542314706304432, 'lambda_l1': 0.6884067638811844, 'lambda_l2': 2.3423343876893203, 'min_data_in_leaf': 191, 'max_depth': 5, 'max_bin': 356, 'objective': 'regression'}. Best is trial 4 with value: 63.62048636081667.\n"
     ]
    },
    {
     "name": "stderr",
     "output_type": "stream",
     "text": [
      "/Users/sekishunfutoshi/anaconda3/lib/python3.11/site-packages/lightgbm/engine.py:172: UserWarning: Found `n_iter` in params. Will use it instead of argument\n",
      "  _log_warning(f\"Found `{alias}` in params. Will use it instead of argument\")\n"
     ]
    },
    {
     "name": "stdout",
     "output_type": "stream",
     "text": [
      "[I 2023-12-19 22:05:24,788] Trial 25 finished with value: 64.54792910114615 and parameters: {'learning_rate': 0.08998257646285214, 'colsample_bytree': 0.7189984465838714, 'colsample_bynode': 0.6773130850870048, 'lambda_l1': 2.2033565036443026, 'lambda_l2': 6.4869822192040285, 'min_data_in_leaf': 229, 'max_depth': 8, 'max_bin': 205, 'objective': 'regression'}. Best is trial 4 with value: 63.62048636081667.\n"
     ]
    },
    {
     "name": "stderr",
     "output_type": "stream",
     "text": [
      "/Users/sekishunfutoshi/anaconda3/lib/python3.11/site-packages/lightgbm/engine.py:172: UserWarning: Found `n_iter` in params. Will use it instead of argument\n",
      "  _log_warning(f\"Found `{alias}` in params. Will use it instead of argument\")\n"
     ]
    },
    {
     "name": "stdout",
     "output_type": "stream",
     "text": [
      "[I 2023-12-19 22:06:54,471] Trial 26 finished with value: 347.78177757433684 and parameters: {'learning_rate': 0.09114275743070924, 'colsample_bytree': 0.6577151809492199, 'colsample_bynode': 0.6766312188746019, 'lambda_l1': 3.345478130519953, 'lambda_l2': 6.637088288594086, 'min_data_in_leaf': 226, 'max_depth': 8, 'max_bin': 191, 'objective': 'huber'}. Best is trial 4 with value: 63.62048636081667.\n"
     ]
    },
    {
     "name": "stderr",
     "output_type": "stream",
     "text": [
      "/Users/sekishunfutoshi/anaconda3/lib/python3.11/site-packages/lightgbm/engine.py:172: UserWarning: Found `n_iter` in params. Will use it instead of argument\n",
      "  _log_warning(f\"Found `{alias}` in params. Will use it instead of argument\")\n"
     ]
    },
    {
     "name": "stdout",
     "output_type": "stream",
     "text": [
      "[I 2023-12-19 22:08:16,047] Trial 27 finished with value: 323.38962685783844 and parameters: {'learning_rate': 0.0928048735930003, 'colsample_bytree': 0.576517284668607, 'colsample_bynode': 0.7482932435005811, 'lambda_l1': 2.5586014780014854, 'lambda_l2': 4.821559242033275, 'min_data_in_leaf': 252, 'max_depth': 10, 'max_bin': 122, 'objective': 'fair'}. Best is trial 4 with value: 63.62048636081667.\n"
     ]
    },
    {
     "name": "stderr",
     "output_type": "stream",
     "text": [
      "/Users/sekishunfutoshi/anaconda3/lib/python3.11/site-packages/lightgbm/engine.py:172: UserWarning: Found `n_iter` in params. Will use it instead of argument\n",
      "  _log_warning(f\"Found `{alias}` in params. Will use it instead of argument\")\n"
     ]
    },
    {
     "name": "stdout",
     "output_type": "stream",
     "text": [
      "[I 2023-12-19 22:10:04,750] Trial 28 finished with value: 69.51722302057333 and parameters: {'learning_rate': 0.08084521379108114, 'colsample_bytree': 0.7948868504539878, 'colsample_bynode': 0.7277721444175821, 'lambda_l1': 1.6785149207707377, 'lambda_l2': 3.8823455444317014, 'min_data_in_leaf': 229, 'max_depth': 9, 'max_bin': 249, 'objective': 'regression_l1'}. Best is trial 4 with value: 63.62048636081667.\n"
     ]
    },
    {
     "name": "stderr",
     "output_type": "stream",
     "text": [
      "/Users/sekishunfutoshi/anaconda3/lib/python3.11/site-packages/lightgbm/engine.py:172: UserWarning: Found `n_iter` in params. Will use it instead of argument\n",
      "  _log_warning(f\"Found `{alias}` in params. Will use it instead of argument\")\n"
     ]
    },
    {
     "name": "stdout",
     "output_type": "stream",
     "text": [
      "[I 2023-12-19 22:11:41,646] Trial 29 finished with value: 74.75156144941465 and parameters: {'learning_rate': 0.0836265703394914, 'colsample_bytree': 0.7287158643496555, 'colsample_bynode': 0.6797847580865383, 'lambda_l1': 4.179474847131868, 'lambda_l2': 6.605820475522572, 'min_data_in_leaf': 195, 'max_depth': 8, 'max_bin': 83, 'objective': 'regression_l1'}. Best is trial 4 with value: 63.62048636081667.\n"
     ]
    },
    {
     "name": "stderr",
     "output_type": "stream",
     "text": [
      "/Users/sekishunfutoshi/anaconda3/lib/python3.11/site-packages/lightgbm/engine.py:172: UserWarning: Found `n_iter` in params. Will use it instead of argument\n",
      "  _log_warning(f\"Found `{alias}` in params. Will use it instead of argument\")\n"
     ]
    },
    {
     "name": "stdout",
     "output_type": "stream",
     "text": [
      "[I 2023-12-19 22:13:04,010] Trial 30 finished with value: 65.15901504654353 and parameters: {'learning_rate': 0.09459647190610325, 'colsample_bytree': 0.8056571153351815, 'colsample_bynode': 0.7246831129859409, 'lambda_l1': 2.110627629560476, 'lambda_l2': 1.2276390936421326, 'min_data_in_leaf': 255, 'max_depth': 9, 'max_bin': 689, 'objective': 'regression'}. Best is trial 4 with value: 63.62048636081667.\n"
     ]
    },
    {
     "name": "stderr",
     "output_type": "stream",
     "text": [
      "/Users/sekishunfutoshi/anaconda3/lib/python3.11/site-packages/lightgbm/engine.py:172: UserWarning: Found `n_iter` in params. Will use it instead of argument\n",
      "  _log_warning(f\"Found `{alias}` in params. Will use it instead of argument\")\n"
     ]
    },
    {
     "name": "stdout",
     "output_type": "stream",
     "text": [
      "[I 2023-12-19 22:14:19,476] Trial 31 finished with value: 64.30071065977593 and parameters: {'learning_rate': 0.08573153068301223, 'colsample_bytree': 0.6889196237425841, 'colsample_bynode': 0.640679015530436, 'lambda_l1': 1.1281779007889294, 'lambda_l2': 5.027895935040209, 'min_data_in_leaf': 103, 'max_depth': 7, 'max_bin': 492, 'objective': 'regression'}. Best is trial 4 with value: 63.62048636081667.\n"
     ]
    },
    {
     "name": "stderr",
     "output_type": "stream",
     "text": [
      "/Users/sekishunfutoshi/anaconda3/lib/python3.11/site-packages/lightgbm/engine.py:172: UserWarning: Found `n_iter` in params. Will use it instead of argument\n",
      "  _log_warning(f\"Found `{alias}` in params. Will use it instead of argument\")\n"
     ]
    },
    {
     "name": "stdout",
     "output_type": "stream",
     "text": [
      "[I 2023-12-19 22:15:36,293] Trial 32 finished with value: 63.99307078151874 and parameters: {'learning_rate': 0.08448852170660137, 'colsample_bytree': 0.6881331551904751, 'colsample_bynode': 0.6527719119272225, 'lambda_l1': 3.144099858733459, 'lambda_l2': 5.090824607748708, 'min_data_in_leaf': 117, 'max_depth': 7, 'max_bin': 513, 'objective': 'regression'}. Best is trial 4 with value: 63.62048636081667.\n"
     ]
    },
    {
     "name": "stderr",
     "output_type": "stream",
     "text": [
      "/Users/sekishunfutoshi/anaconda3/lib/python3.11/site-packages/lightgbm/engine.py:172: UserWarning: Found `n_iter` in params. Will use it instead of argument\n",
      "  _log_warning(f\"Found `{alias}` in params. Will use it instead of argument\")\n"
     ]
    },
    {
     "name": "stdout",
     "output_type": "stream",
     "text": [
      "[I 2023-12-19 22:16:54,298] Trial 33 finished with value: 64.71263133978357 and parameters: {'learning_rate': 0.0834025523423895, 'colsample_bytree': 0.6754386959070204, 'colsample_bynode': 0.6423075144322121, 'lambda_l1': 3.190013731808804, 'lambda_l2': 4.883125739985398, 'min_data_in_leaf': 113, 'max_depth': 7, 'max_bin': 521, 'objective': 'regression'}. Best is trial 4 with value: 63.62048636081667.\n"
     ]
    },
    {
     "name": "stderr",
     "output_type": "stream",
     "text": [
      "/Users/sekishunfutoshi/anaconda3/lib/python3.11/site-packages/lightgbm/engine.py:172: UserWarning: Found `n_iter` in params. Will use it instead of argument\n",
      "  _log_warning(f\"Found `{alias}` in params. Will use it instead of argument\")\n"
     ]
    },
    {
     "name": "stdout",
     "output_type": "stream",
     "text": [
      "[I 2023-12-19 22:18:14,509] Trial 34 finished with value: 64.95813337108181 and parameters: {'learning_rate': 0.07807500703134605, 'colsample_bytree': 0.630489672332168, 'colsample_bynode': 0.6966706361443425, 'lambda_l1': 2.9325954258903235, 'lambda_l2': 3.620580619406101, 'min_data_in_leaf': 123, 'max_depth': 7, 'max_bin': 663, 'objective': 'regression'}. Best is trial 4 with value: 63.62048636081667.\n"
     ]
    },
    {
     "name": "stderr",
     "output_type": "stream",
     "text": [
      "/Users/sekishunfutoshi/anaconda3/lib/python3.11/site-packages/lightgbm/engine.py:172: UserWarning: Found `n_iter` in params. Will use it instead of argument\n",
      "  _log_warning(f\"Found `{alias}` in params. Will use it instead of argument\")\n"
     ]
    },
    {
     "name": "stdout",
     "output_type": "stream",
     "text": [
      "[I 2023-12-19 22:19:30,532] Trial 35 finished with value: 63.504955337498856 and parameters: {'learning_rate': 0.09510698684492003, 'colsample_bytree': 0.7478177759741577, 'colsample_bynode': 0.6051862690932498, 'lambda_l1': 1.0480954906713513, 'lambda_l2': 4.060025634323563, 'min_data_in_leaf': 87, 'max_depth': 7, 'max_bin': 513, 'objective': 'regression'}. Best is trial 35 with value: 63.504955337498856.\n"
     ]
    },
    {
     "name": "stderr",
     "output_type": "stream",
     "text": [
      "/Users/sekishunfutoshi/anaconda3/lib/python3.11/site-packages/lightgbm/engine.py:172: UserWarning: Found `n_iter` in params. Will use it instead of argument\n",
      "  _log_warning(f\"Found `{alias}` in params. Will use it instead of argument\")\n"
     ]
    },
    {
     "name": "stdout",
     "output_type": "stream",
     "text": [
      "[I 2023-12-19 22:20:47,571] Trial 36 finished with value: 64.59269464994475 and parameters: {'learning_rate': 0.09554762500975367, 'colsample_bytree': 0.7517882777695277, 'colsample_bynode': 0.5826978527569869, 'lambda_l1': 0.9287271776267381, 'lambda_l2': 4.23145849264013, 'min_data_in_leaf': 81, 'max_depth': 7, 'max_bin': 505, 'objective': 'regression'}. Best is trial 35 with value: 63.504955337498856.\n"
     ]
    },
    {
     "name": "stderr",
     "output_type": "stream",
     "text": [
      "/Users/sekishunfutoshi/anaconda3/lib/python3.11/site-packages/lightgbm/engine.py:172: UserWarning: Found `n_iter` in params. Will use it instead of argument\n",
      "  _log_warning(f\"Found `{alias}` in params. Will use it instead of argument\")\n"
     ]
    },
    {
     "name": "stdout",
     "output_type": "stream",
     "text": [
      "[I 2023-12-19 22:22:45,499] Trial 37 finished with value: 344.3375344865692 and parameters: {'learning_rate': 0.09597814622966637, 'colsample_bytree': 0.738767296953317, 'colsample_bynode': 0.5889507728592089, 'lambda_l1': 3.7189149418431384, 'lambda_l2': 2.7569045341662015, 'min_data_in_leaf': 99, 'max_depth': 7, 'max_bin': 572, 'objective': 'huber'}. Best is trial 35 with value: 63.504955337498856.\n"
     ]
    },
    {
     "name": "stderr",
     "output_type": "stream",
     "text": [
      "/Users/sekishunfutoshi/anaconda3/lib/python3.11/site-packages/lightgbm/engine.py:172: UserWarning: Found `n_iter` in params. Will use it instead of argument\n",
      "  _log_warning(f\"Found `{alias}` in params. Will use it instead of argument\")\n"
     ]
    },
    {
     "name": "stdout",
     "output_type": "stream",
     "text": [
      "[I 2023-12-19 22:24:47,965] Trial 38 finished with value: 74.49756948238199 and parameters: {'learning_rate': 0.06665536974091525, 'colsample_bytree': 0.6315440473864886, 'colsample_bynode': 0.6097644829890123, 'lambda_l1': 0.7675141492269987, 'lambda_l2': 3.3406518131425704, 'min_data_in_leaf': 134, 'max_depth': 7, 'max_bin': 477, 'objective': 'regression_l1'}. Best is trial 35 with value: 63.504955337498856.\n"
     ]
    },
    {
     "name": "stderr",
     "output_type": "stream",
     "text": [
      "/Users/sekishunfutoshi/anaconda3/lib/python3.11/site-packages/lightgbm/engine.py:172: UserWarning: Found `n_iter` in params. Will use it instead of argument\n",
      "  _log_warning(f\"Found `{alias}` in params. Will use it instead of argument\")\n"
     ]
    },
    {
     "name": "stdout",
     "output_type": "stream",
     "text": [
      "[I 2023-12-19 22:25:56,913] Trial 39 finished with value: 64.35693358996541 and parameters: {'learning_rate': 0.07702006652050068, 'colsample_bytree': 0.6042799022004889, 'colsample_bynode': 0.6457060643108761, 'lambda_l1': 2.0188230846565225, 'lambda_l2': 4.272167360016148, 'min_data_in_leaf': 66, 'max_depth': 8, 'max_bin': 359, 'objective': 'regression'}. Best is trial 35 with value: 63.504955337498856.\n"
     ]
    },
    {
     "name": "stderr",
     "output_type": "stream",
     "text": [
      "/Users/sekishunfutoshi/anaconda3/lib/python3.11/site-packages/lightgbm/engine.py:172: UserWarning: Found `n_iter` in params. Will use it instead of argument\n",
      "  _log_warning(f\"Found `{alias}` in params. Will use it instead of argument\")\n"
     ]
    },
    {
     "name": "stdout",
     "output_type": "stream",
     "text": [
      "[I 2023-12-19 22:27:20,333] Trial 40 finished with value: 64.018961474287 and parameters: {'learning_rate': 0.08457405198641046, 'colsample_bytree': 0.6823079753341729, 'colsample_bynode': 0.5576434311145527, 'lambda_l1': 2.900573943905714, 'lambda_l2': 2.3006369823430015, 'min_data_in_leaf': 96, 'max_depth': 10, 'max_bin': 795, 'objective': 'regression'}. Best is trial 35 with value: 63.504955337498856.\n"
     ]
    },
    {
     "name": "stderr",
     "output_type": "stream",
     "text": [
      "/Users/sekishunfutoshi/anaconda3/lib/python3.11/site-packages/lightgbm/engine.py:172: UserWarning: Found `n_iter` in params. Will use it instead of argument\n",
      "  _log_warning(f\"Found `{alias}` in params. Will use it instead of argument\")\n"
     ]
    },
    {
     "name": "stdout",
     "output_type": "stream",
     "text": [
      "[I 2023-12-19 22:28:39,951] Trial 41 finished with value: 63.870181855426324 and parameters: {'learning_rate': 0.08465758377838609, 'colsample_bytree': 0.6941897940442853, 'colsample_bynode': 0.5569529126759959, 'lambda_l1': 2.693593005418953, 'lambda_l2': 2.16191102882181, 'min_data_in_leaf': 89, 'max_depth': 7, 'max_bin': 601, 'objective': 'regression'}. Best is trial 35 with value: 63.504955337498856.\n"
     ]
    },
    {
     "name": "stderr",
     "output_type": "stream",
     "text": [
      "/Users/sekishunfutoshi/anaconda3/lib/python3.11/site-packages/lightgbm/engine.py:172: UserWarning: Found `n_iter` in params. Will use it instead of argument\n",
      "  _log_warning(f\"Found `{alias}` in params. Will use it instead of argument\")\n"
     ]
    },
    {
     "name": "stdout",
     "output_type": "stream",
     "text": [
      "[I 2023-12-19 22:30:03,746] Trial 42 finished with value: 63.13380131546242 and parameters: {'learning_rate': 0.08407572243148756, 'colsample_bytree': 0.7391133421728154, 'colsample_bynode': 0.5579200138377782, 'lambda_l1': 2.8319526646000215, 'lambda_l2': 2.1251707803222413, 'min_data_in_leaf': 90, 'max_depth': 10, 'max_bin': 800, 'objective': 'regression'}. Best is trial 42 with value: 63.13380131546242.\n"
     ]
    },
    {
     "name": "stderr",
     "output_type": "stream",
     "text": [
      "/Users/sekishunfutoshi/anaconda3/lib/python3.11/site-packages/lightgbm/engine.py:172: UserWarning: Found `n_iter` in params. Will use it instead of argument\n",
      "  _log_warning(f\"Found `{alias}` in params. Will use it instead of argument\")\n"
     ]
    },
    {
     "name": "stdout",
     "output_type": "stream",
     "text": [
      "[I 2023-12-19 22:31:31,990] Trial 43 finished with value: 63.47056266959869 and parameters: {'learning_rate': 0.09207114465717421, 'colsample_bytree': 0.7391548944312686, 'colsample_bynode': 0.5016300416244076, 'lambda_l1': 2.46014979665485, 'lambda_l2': 2.909898700690464, 'min_data_in_leaf': 87, 'max_depth': 10, 'max_bin': 1017, 'objective': 'regression'}. Best is trial 42 with value: 63.13380131546242.\n"
     ]
    },
    {
     "name": "stderr",
     "output_type": "stream",
     "text": [
      "/Users/sekishunfutoshi/anaconda3/lib/python3.11/site-packages/lightgbm/engine.py:172: UserWarning: Found `n_iter` in params. Will use it instead of argument\n",
      "  _log_warning(f\"Found `{alias}` in params. Will use it instead of argument\")\n"
     ]
    },
    {
     "name": "stdout",
     "output_type": "stream",
     "text": [
      "[I 2023-12-19 22:32:59,649] Trial 44 finished with value: 63.69656246935248 and parameters: {'learning_rate': 0.09903543949989467, 'colsample_bytree': 0.7644304170417635, 'colsample_bynode': 0.5185430927211465, 'lambda_l1': 2.486889154474128, 'lambda_l2': 1.817127798476811, 'min_data_in_leaf': 85, 'max_depth': 10, 'max_bin': 1021, 'objective': 'regression'}. Best is trial 42 with value: 63.13380131546242.\n"
     ]
    },
    {
     "name": "stderr",
     "output_type": "stream",
     "text": [
      "/Users/sekishunfutoshi/anaconda3/lib/python3.11/site-packages/lightgbm/engine.py:172: UserWarning: Found `n_iter` in params. Will use it instead of argument\n",
      "  _log_warning(f\"Found `{alias}` in params. Will use it instead of argument\")\n"
     ]
    },
    {
     "name": "stdout",
     "output_type": "stream",
     "text": [
      "[I 2023-12-19 22:34:27,725] Trial 45 finished with value: 63.51811231871753 and parameters: {'learning_rate': 0.0997403994512108, 'colsample_bytree': 0.7673815437789693, 'colsample_bynode': 0.5320506611130111, 'lambda_l1': 2.436940519914127, 'lambda_l2': 1.6156729340218852, 'min_data_in_leaf': 51, 'max_depth': 10, 'max_bin': 1024, 'objective': 'regression'}. Best is trial 42 with value: 63.13380131546242.\n"
     ]
    },
    {
     "name": "stderr",
     "output_type": "stream",
     "text": [
      "/Users/sekishunfutoshi/anaconda3/lib/python3.11/site-packages/lightgbm/engine.py:172: UserWarning: Found `n_iter` in params. Will use it instead of argument\n",
      "  _log_warning(f\"Found `{alias}` in params. Will use it instead of argument\")\n"
     ]
    },
    {
     "name": "stdout",
     "output_type": "stream",
     "text": [
      "[I 2023-12-19 22:36:15,614] Trial 46 finished with value: 1143.7394874610998 and parameters: {'learning_rate': 0.09260393970606615, 'colsample_bytree': 0.7451320312989672, 'colsample_bynode': 0.5012174494256767, 'lambda_l1': 4.33399002862003, 'lambda_l2': 1.168149638448035, 'min_data_in_leaf': 56, 'max_depth': 10, 'max_bin': 925, 'objective': 'fair'}. Best is trial 42 with value: 63.13380131546242.\n"
     ]
    },
    {
     "name": "stderr",
     "output_type": "stream",
     "text": [
      "/Users/sekishunfutoshi/anaconda3/lib/python3.11/site-packages/lightgbm/engine.py:172: UserWarning: Found `n_iter` in params. Will use it instead of argument\n",
      "  _log_warning(f\"Found `{alias}` in params. Will use it instead of argument\")\n"
     ]
    },
    {
     "name": "stdout",
     "output_type": "stream",
     "text": [
      "[I 2023-12-19 22:37:41,029] Trial 47 finished with value: 63.59660667785202 and parameters: {'learning_rate': 0.09998864592233234, 'colsample_bytree': 0.830212856219038, 'colsample_bynode': 0.5365109704663698, 'lambda_l1': 1.798621810871552, 'lambda_l2': 2.882208223007628, 'min_data_in_leaf': 51, 'max_depth': 10, 'max_bin': 855, 'objective': 'regression'}. Best is trial 42 with value: 63.13380131546242.\n"
     ]
    },
    {
     "name": "stderr",
     "output_type": "stream",
     "text": [
      "/Users/sekishunfutoshi/anaconda3/lib/python3.11/site-packages/lightgbm/engine.py:172: UserWarning: Found `n_iter` in params. Will use it instead of argument\n",
      "  _log_warning(f\"Found `{alias}` in params. Will use it instead of argument\")\n"
     ]
    },
    {
     "name": "stdout",
     "output_type": "stream",
     "text": [
      "[I 2023-12-19 22:39:55,105] Trial 48 finished with value: 341.53974689616297 and parameters: {'learning_rate': 0.09989155209210103, 'colsample_bytree': 0.8072297080488117, 'colsample_bynode': 0.5274837278150842, 'lambda_l1': 1.7416077854599128, 'lambda_l2': 2.8629948659785764, 'min_data_in_leaf': 48, 'max_depth': 10, 'max_bin': 844, 'objective': 'huber'}. Best is trial 42 with value: 63.13380131546242.\n"
     ]
    },
    {
     "name": "stderr",
     "output_type": "stream",
     "text": [
      "/Users/sekishunfutoshi/anaconda3/lib/python3.11/site-packages/lightgbm/engine.py:172: UserWarning: Found `n_iter` in params. Will use it instead of argument\n",
      "  _log_warning(f\"Found `{alias}` in params. Will use it instead of argument\")\n"
     ]
    },
    {
     "name": "stdout",
     "output_type": "stream",
     "text": [
      "[I 2023-12-19 22:41:28,660] Trial 49 finished with value: 64.22358404277439 and parameters: {'learning_rate': 0.09610872950051673, 'colsample_bytree': 0.8265425243875767, 'colsample_bynode': 0.5376051636789537, 'lambda_l1': 2.395611139986629, 'lambda_l2': 2.8196886079778034, 'min_data_in_leaf': 17, 'max_depth': 10, 'max_bin': 966, 'objective': 'regression'}. Best is trial 42 with value: 63.13380131546242.\n"
     ]
    },
    {
     "name": "stderr",
     "output_type": "stream",
     "text": [
      "/Users/sekishunfutoshi/anaconda3/lib/python3.11/site-packages/lightgbm/engine.py:172: UserWarning: Found `n_iter` in params. Will use it instead of argument\n",
      "  _log_warning(f\"Found `{alias}` in params. Will use it instead of argument\")\n"
     ]
    },
    {
     "name": "stdout",
     "output_type": "stream",
     "text": [
      "[I 2023-12-19 22:43:50,536] Trial 50 finished with value: 72.11794942832638 and parameters: {'learning_rate': 0.09070223620412843, 'colsample_bytree': 0.7712430295508459, 'colsample_bynode': 0.5089013862953049, 'lambda_l1': 0.48210788761314616, 'lambda_l2': 1.836614059543592, 'min_data_in_leaf': 66, 'max_depth': 9, 'max_bin': 871, 'objective': 'regression_l1'}. Best is trial 42 with value: 63.13380131546242.\n"
     ]
    },
    {
     "name": "stderr",
     "output_type": "stream",
     "text": [
      "/Users/sekishunfutoshi/anaconda3/lib/python3.11/site-packages/lightgbm/engine.py:172: UserWarning: Found `n_iter` in params. Will use it instead of argument\n",
      "  _log_warning(f\"Found `{alias}` in params. Will use it instead of argument\")\n"
     ]
    },
    {
     "name": "stdout",
     "output_type": "stream",
     "text": [
      "[I 2023-12-19 22:45:21,978] Trial 51 finished with value: 64.36988909085599 and parameters: {'learning_rate': 0.09385701277254216, 'colsample_bytree': 0.7385580676486105, 'colsample_bynode': 0.5438760043164261, 'lambda_l1': 1.3611594419399273, 'lambda_l2': 3.1819486079387254, 'min_data_in_leaf': 77, 'max_depth': 10, 'max_bin': 937, 'objective': 'regression'}. Best is trial 42 with value: 63.13380131546242.\n"
     ]
    },
    {
     "name": "stderr",
     "output_type": "stream",
     "text": [
      "/Users/sekishunfutoshi/anaconda3/lib/python3.11/site-packages/lightgbm/engine.py:172: UserWarning: Found `n_iter` in params. Will use it instead of argument\n",
      "  _log_warning(f\"Found `{alias}` in params. Will use it instead of argument\")\n"
     ]
    },
    {
     "name": "stdout",
     "output_type": "stream",
     "text": [
      "[I 2023-12-19 22:47:00,194] Trial 52 finished with value: 64.06118270961285 and parameters: {'learning_rate': 0.09745253030114329, 'colsample_bytree': 0.8358770811265985, 'colsample_bynode': 0.568867872442882, 'lambda_l1': 2.0810632058937957, 'lambda_l2': 0.8061678786830413, 'min_data_in_leaf': 30, 'max_depth': 10, 'max_bin': 1008, 'objective': 'regression'}. Best is trial 42 with value: 63.13380131546242.\n"
     ]
    },
    {
     "name": "stderr",
     "output_type": "stream",
     "text": [
      "/Users/sekishunfutoshi/anaconda3/lib/python3.11/site-packages/lightgbm/engine.py:172: UserWarning: Found `n_iter` in params. Will use it instead of argument\n",
      "  _log_warning(f\"Found `{alias}` in params. Will use it instead of argument\")\n"
     ]
    },
    {
     "name": "stdout",
     "output_type": "stream",
     "text": [
      "[I 2023-12-19 22:48:32,377] Trial 53 finished with value: 64.30899197556597 and parameters: {'learning_rate': 0.09099293787201079, 'colsample_bytree': 0.778994885451101, 'colsample_bynode': 0.5245091866848565, 'lambda_l1': 2.369174785495941, 'lambda_l2': 2.497686906914109, 'min_data_in_leaf': 53, 'max_depth': 9, 'max_bin': 817, 'objective': 'regression'}. Best is trial 42 with value: 63.13380131546242.\n"
     ]
    },
    {
     "name": "stderr",
     "output_type": "stream",
     "text": [
      "/Users/sekishunfutoshi/anaconda3/lib/python3.11/site-packages/lightgbm/engine.py:172: UserWarning: Found `n_iter` in params. Will use it instead of argument\n",
      "  _log_warning(f\"Found `{alias}` in params. Will use it instead of argument\")\n"
     ]
    },
    {
     "name": "stdout",
     "output_type": "stream",
     "text": [
      "[I 2023-12-19 22:50:09,989] Trial 54 finished with value: 63.40221404656488 and parameters: {'learning_rate': 0.0965019636789947, 'colsample_bytree': 0.7570690314480844, 'colsample_bynode': 0.599237179639833, 'lambda_l1': 1.744475759928698, 'lambda_l2': 1.7479147733852187, 'min_data_in_leaf': 143, 'max_depth': 10, 'max_bin': 888, 'objective': 'regression'}. Best is trial 42 with value: 63.13380131546242.\n"
     ]
    },
    {
     "name": "stderr",
     "output_type": "stream",
     "text": [
      "/Users/sekishunfutoshi/anaconda3/lib/python3.11/site-packages/lightgbm/engine.py:172: UserWarning: Found `n_iter` in params. Will use it instead of argument\n",
      "  _log_warning(f\"Found `{alias}` in params. Will use it instead of argument\")\n"
     ]
    },
    {
     "name": "stdout",
     "output_type": "stream",
     "text": [
      "[I 2023-12-19 22:51:41,843] Trial 55 finished with value: 62.72462398036485 and parameters: {'learning_rate': 0.09625425976298063, 'colsample_bytree': 0.7588246004819929, 'colsample_bynode': 0.5429950754414783, 'lambda_l1': 1.5285663331501915, 'lambda_l2': 1.7284311160327857, 'min_data_in_leaf': 141, 'max_depth': 10, 'max_bin': 884, 'objective': 'regression'}. Best is trial 55 with value: 62.72462398036485.\n"
     ]
    },
    {
     "name": "stderr",
     "output_type": "stream",
     "text": [
      "/Users/sekishunfutoshi/anaconda3/lib/python3.11/site-packages/lightgbm/engine.py:172: UserWarning: Found `n_iter` in params. Will use it instead of argument\n",
      "  _log_warning(f\"Found `{alias}` in params. Will use it instead of argument\")\n"
     ]
    },
    {
     "name": "stdout",
     "output_type": "stream",
     "text": [
      "[I 2023-12-19 22:53:14,090] Trial 56 finished with value: 64.44924748484848 and parameters: {'learning_rate': 0.09544710631659131, 'colsample_bytree': 0.7589894177589954, 'colsample_bynode': 0.571718423848724, 'lambda_l1': 1.269104401057605, 'lambda_l2': 1.6941728497793107, 'min_data_in_leaf': 155, 'max_depth': 10, 'max_bin': 896, 'objective': 'regression'}. Best is trial 55 with value: 62.72462398036485.\n"
     ]
    },
    {
     "name": "stderr",
     "output_type": "stream",
     "text": [
      "/Users/sekishunfutoshi/anaconda3/lib/python3.11/site-packages/lightgbm/engine.py:172: UserWarning: Found `n_iter` in params. Will use it instead of argument\n",
      "  _log_warning(f\"Found `{alias}` in params. Will use it instead of argument\")\n"
     ]
    },
    {
     "name": "stdout",
     "output_type": "stream",
     "text": [
      "[I 2023-12-19 22:54:48,013] Trial 57 finished with value: 63.04567848317379 and parameters: {'learning_rate': 0.08842466494635, 'colsample_bytree': 0.7325523936447261, 'colsample_bynode': 0.5935451802367007, 'lambda_l1': 1.6852509232926676, 'lambda_l2': 1.5274956579895427, 'min_data_in_leaf': 142, 'max_depth': 10, 'max_bin': 975, 'objective': 'regression'}. Best is trial 55 with value: 62.72462398036485.\n"
     ]
    },
    {
     "name": "stderr",
     "output_type": "stream",
     "text": [
      "/Users/sekishunfutoshi/anaconda3/lib/python3.11/site-packages/lightgbm/engine.py:172: UserWarning: Found `n_iter` in params. Will use it instead of argument\n",
      "  _log_warning(f\"Found `{alias}` in params. Will use it instead of argument\")\n"
     ]
    },
    {
     "name": "stdout",
     "output_type": "stream",
     "text": [
      "[I 2023-12-19 22:56:36,143] Trial 58 finished with value: 653.5256609363119 and parameters: {'learning_rate': 0.08865572962977146, 'colsample_bytree': 0.730939645780211, 'colsample_bynode': 0.5979457087470924, 'lambda_l1': 0.4311929411119708, 'lambda_l2': 2.1159563808322326, 'min_data_in_leaf': 142, 'max_depth': 9, 'max_bin': 975, 'objective': 'fair'}. Best is trial 55 with value: 62.72462398036485.\n"
     ]
    },
    {
     "name": "stderr",
     "output_type": "stream",
     "text": [
      "/Users/sekishunfutoshi/anaconda3/lib/python3.11/site-packages/lightgbm/engine.py:172: UserWarning: Found `n_iter` in params. Will use it instead of argument\n",
      "  _log_warning(f\"Found `{alias}` in params. Will use it instead of argument\")\n"
     ]
    },
    {
     "name": "stdout",
     "output_type": "stream",
     "text": [
      "[I 2023-12-19 22:58:05,888] Trial 59 finished with value: 63.590466493281255 and parameters: {'learning_rate': 0.08854713981739676, 'colsample_bytree': 0.7213750040015586, 'colsample_bynode': 0.6047219492123272, 'lambda_l1': 1.6503202367085297, 'lambda_l2': 0.8768734522642676, 'min_data_in_leaf': 132, 'max_depth': 10, 'max_bin': 782, 'objective': 'regression'}. Best is trial 55 with value: 62.72462398036485.\n"
     ]
    },
    {
     "name": "stderr",
     "output_type": "stream",
     "text": [
      "/Users/sekishunfutoshi/anaconda3/lib/python3.11/site-packages/lightgbm/engine.py:172: UserWarning: Found `n_iter` in params. Will use it instead of argument\n",
      "  _log_warning(f\"Found `{alias}` in params. Will use it instead of argument\")\n"
     ]
    },
    {
     "name": "stdout",
     "output_type": "stream",
     "text": [
      "[I 2023-12-19 22:59:40,931] Trial 60 finished with value: 63.13867496743438 and parameters: {'learning_rate': 0.07975934526268831, 'colsample_bytree': 0.7059782846108552, 'colsample_bynode': 0.5508299350911939, 'lambda_l1': 0.9751341450780692, 'lambda_l2': 2.545319192066564, 'min_data_in_leaf': 167, 'max_depth': 9, 'max_bin': 952, 'objective': 'regression'}. Best is trial 55 with value: 62.72462398036485.\n"
     ]
    },
    {
     "name": "stderr",
     "output_type": "stream",
     "text": [
      "/Users/sekishunfutoshi/anaconda3/lib/python3.11/site-packages/lightgbm/engine.py:172: UserWarning: Found `n_iter` in params. Will use it instead of argument\n",
      "  _log_warning(f\"Found `{alias}` in params. Will use it instead of argument\")\n"
     ]
    },
    {
     "name": "stdout",
     "output_type": "stream",
     "text": [
      "[I 2023-12-19 23:01:15,215] Trial 61 finished with value: 63.28909578851369 and parameters: {'learning_rate': 0.08111130397298766, 'colsample_bytree': 0.7081568686332064, 'colsample_bynode': 0.5854511494809272, 'lambda_l1': 1.0424092038622366, 'lambda_l2': 2.3783732657193344, 'min_data_in_leaf': 177, 'max_depth': 9, 'max_bin': 936, 'objective': 'regression'}. Best is trial 55 with value: 62.72462398036485.\n"
     ]
    },
    {
     "name": "stderr",
     "output_type": "stream",
     "text": [
      "/Users/sekishunfutoshi/anaconda3/lib/python3.11/site-packages/lightgbm/engine.py:172: UserWarning: Found `n_iter` in params. Will use it instead of argument\n",
      "  _log_warning(f\"Found `{alias}` in params. Will use it instead of argument\")\n"
     ]
    },
    {
     "name": "stdout",
     "output_type": "stream",
     "text": [
      "[I 2023-12-19 23:02:49,503] Trial 62 finished with value: 63.077344335978545 and parameters: {'learning_rate': 0.0808458500421793, 'colsample_bytree': 0.7135900058552546, 'colsample_bynode': 0.5513009892023827, 'lambda_l1': 1.4266609229695022, 'lambda_l2': 2.429822539589743, 'min_data_in_leaf': 175, 'max_depth': 9, 'max_bin': 954, 'objective': 'regression'}. Best is trial 55 with value: 62.72462398036485.\n"
     ]
    },
    {
     "name": "stderr",
     "output_type": "stream",
     "text": [
      "/Users/sekishunfutoshi/anaconda3/lib/python3.11/site-packages/lightgbm/engine.py:172: UserWarning: Found `n_iter` in params. Will use it instead of argument\n",
      "  _log_warning(f\"Found `{alias}` in params. Will use it instead of argument\")\n"
     ]
    },
    {
     "name": "stdout",
     "output_type": "stream",
     "text": [
      "[I 2023-12-19 23:04:23,868] Trial 63 finished with value: 62.61718036113329 and parameters: {'learning_rate': 0.08072727696049717, 'colsample_bytree': 0.7107613501491252, 'colsample_bynode': 0.579127562270319, 'lambda_l1': 0.3688343201590739, 'lambda_l2': 2.5405843112295075, 'min_data_in_leaf': 179, 'max_depth': 9, 'max_bin': 944, 'objective': 'regression'}. Best is trial 63 with value: 62.61718036113329.\n"
     ]
    },
    {
     "name": "stderr",
     "output_type": "stream",
     "text": [
      "/Users/sekishunfutoshi/anaconda3/lib/python3.11/site-packages/lightgbm/engine.py:172: UserWarning: Found `n_iter` in params. Will use it instead of argument\n",
      "  _log_warning(f\"Found `{alias}` in params. Will use it instead of argument\")\n"
     ]
    },
    {
     "name": "stdout",
     "output_type": "stream",
     "text": [
      "[I 2023-12-19 23:05:58,047] Trial 64 finished with value: 63.77696909599852 and parameters: {'learning_rate': 0.08056094365509803, 'colsample_bytree': 0.7070601880410032, 'colsample_bynode': 0.5784735723247301, 'lambda_l1': 0.41100472775926544, 'lambda_l2': 2.55666181440713, 'min_data_in_leaf': 177, 'max_depth': 9, 'max_bin': 946, 'objective': 'regression'}. Best is trial 63 with value: 62.61718036113329.\n"
     ]
    },
    {
     "name": "stderr",
     "output_type": "stream",
     "text": [
      "/Users/sekishunfutoshi/anaconda3/lib/python3.11/site-packages/lightgbm/engine.py:172: UserWarning: Found `n_iter` in params. Will use it instead of argument\n",
      "  _log_warning(f\"Found `{alias}` in params. Will use it instead of argument\")\n"
     ]
    },
    {
     "name": "stdout",
     "output_type": "stream",
     "text": [
      "[I 2023-12-19 23:07:32,266] Trial 65 finished with value: 62.79148730018921 and parameters: {'learning_rate': 0.0755078020932346, 'colsample_bytree': 0.7139571438850577, 'colsample_bynode': 0.5625233521837679, 'lambda_l1': 0.6817089737760329, 'lambda_l2': 2.1832121326867746, 'min_data_in_leaf': 185, 'max_depth': 9, 'max_bin': 906, 'objective': 'regression'}. Best is trial 63 with value: 62.61718036113329.\n"
     ]
    },
    {
     "name": "stderr",
     "output_type": "stream",
     "text": [
      "/Users/sekishunfutoshi/anaconda3/lib/python3.11/site-packages/lightgbm/engine.py:172: UserWarning: Found `n_iter` in params. Will use it instead of argument\n",
      "  _log_warning(f\"Found `{alias}` in params. Will use it instead of argument\")\n"
     ]
    },
    {
     "name": "stdout",
     "output_type": "stream",
     "text": [
      "[I 2023-12-19 23:09:55,173] Trial 66 finished with value: 359.37192866032177 and parameters: {'learning_rate': 0.07493073770168424, 'colsample_bytree': 0.7225991986098718, 'colsample_bynode': 0.5499907149300807, 'lambda_l1': 0.8047316227469166, 'lambda_l2': 1.9500613505763777, 'min_data_in_leaf': 163, 'max_depth': 9, 'max_bin': 981, 'objective': 'huber'}. Best is trial 63 with value: 62.61718036113329.\n"
     ]
    },
    {
     "name": "stderr",
     "output_type": "stream",
     "text": [
      "/Users/sekishunfutoshi/anaconda3/lib/python3.11/site-packages/lightgbm/engine.py:172: UserWarning: Found `n_iter` in params. Will use it instead of argument\n",
      "  _log_warning(f\"Found `{alias}` in params. Will use it instead of argument\")\n"
     ]
    },
    {
     "name": "stdout",
     "output_type": "stream",
     "text": [
      "[I 2023-12-19 23:11:25,130] Trial 67 finished with value: 64.16750190554184 and parameters: {'learning_rate': 0.0789133312536156, 'colsample_bytree': 0.6545813025139188, 'colsample_bynode': 0.5618528561449637, 'lambda_l1': 0.1238299831245796, 'lambda_l2': 1.366248219555803, 'min_data_in_leaf': 190, 'max_depth': 9, 'max_bin': 828, 'objective': 'regression'}. Best is trial 63 with value: 62.61718036113329.\n"
     ]
    },
    {
     "name": "stderr",
     "output_type": "stream",
     "text": [
      "/Users/sekishunfutoshi/anaconda3/lib/python3.11/site-packages/lightgbm/engine.py:172: UserWarning: Found `n_iter` in params. Will use it instead of argument\n",
      "  _log_warning(f\"Found `{alias}` in params. Will use it instead of argument\")\n"
     ]
    },
    {
     "name": "stdout",
     "output_type": "stream",
     "text": [
      "[I 2023-12-19 23:12:58,672] Trial 68 finished with value: 63.88746167892413 and parameters: {'learning_rate': 0.07292555543158814, 'colsample_bytree': 0.7062023352556686, 'colsample_bynode': 0.5479903725712767, 'lambda_l1': 1.323954938071743, 'lambda_l2': 1.488524654210397, 'min_data_in_leaf': 201, 'max_depth': 9, 'max_bin': 905, 'objective': 'regression'}. Best is trial 63 with value: 62.61718036113329.\n"
     ]
    },
    {
     "name": "stderr",
     "output_type": "stream",
     "text": [
      "/Users/sekishunfutoshi/anaconda3/lib/python3.11/site-packages/lightgbm/engine.py:172: UserWarning: Found `n_iter` in params. Will use it instead of argument\n",
      "  _log_warning(f\"Found `{alias}` in params. Will use it instead of argument\")\n"
     ]
    },
    {
     "name": "stdout",
     "output_type": "stream",
     "text": [
      "[I 2023-12-19 23:14:50,651] Trial 69 finished with value: 675.3365927851456 and parameters: {'learning_rate': 0.08661803480698713, 'colsample_bytree': 0.7289105058295682, 'colsample_bynode': 0.629168992706949, 'lambda_l1': 0.7027077629963537, 'lambda_l2': 2.133454762556668, 'min_data_in_leaf': 185, 'max_depth': 8, 'max_bin': 743, 'objective': 'fair'}. Best is trial 63 with value: 62.61718036113329.\n"
     ]
    },
    {
     "name": "stderr",
     "output_type": "stream",
     "text": [
      "/Users/sekishunfutoshi/anaconda3/lib/python3.11/site-packages/lightgbm/engine.py:172: UserWarning: Found `n_iter` in params. Will use it instead of argument\n",
      "  _log_warning(f\"Found `{alias}` in params. Will use it instead of argument\")\n"
     ]
    },
    {
     "name": "stdout",
     "output_type": "stream",
     "text": [
      "[I 2023-12-19 23:17:21,742] Trial 70 finished with value: 72.82249581477213 and parameters: {'learning_rate': 0.07559449857964286, 'colsample_bytree': 0.695341516483266, 'colsample_bynode': 0.5188242597960324, 'lambda_l1': 0.36035949459531436, 'lambda_l2': 2.5503361072236803, 'min_data_in_leaf': 167, 'max_depth': 9, 'max_bin': 955, 'objective': 'regression_l1'}. Best is trial 63 with value: 62.61718036113329.\n"
     ]
    },
    {
     "name": "stderr",
     "output_type": "stream",
     "text": [
      "/Users/sekishunfutoshi/anaconda3/lib/python3.11/site-packages/lightgbm/engine.py:172: UserWarning: Found `n_iter` in params. Will use it instead of argument\n",
      "  _log_warning(f\"Found `{alias}` in params. Will use it instead of argument\")\n"
     ]
    },
    {
     "name": "stdout",
     "output_type": "stream",
     "text": [
      "[I 2023-12-19 23:18:54,825] Trial 71 finished with value: 63.23312801046306 and parameters: {'learning_rate': 0.07984356977256639, 'colsample_bytree': 0.701855906160987, 'colsample_bynode': 0.5780081973459794, 'lambda_l1': 1.0159293246264538, 'lambda_l2': 2.3707423452342815, 'min_data_in_leaf': 174, 'max_depth': 9, 'max_bin': 930, 'objective': 'regression'}. Best is trial 63 with value: 62.61718036113329.\n"
     ]
    },
    {
     "name": "stderr",
     "output_type": "stream",
     "text": [
      "/Users/sekishunfutoshi/anaconda3/lib/python3.11/site-packages/lightgbm/engine.py:172: UserWarning: Found `n_iter` in params. Will use it instead of argument\n",
      "  _log_warning(f\"Found `{alias}` in params. Will use it instead of argument\")\n"
     ]
    },
    {
     "name": "stdout",
     "output_type": "stream",
     "text": [
      "[I 2023-12-19 23:20:28,685] Trial 72 finished with value: 63.93317239076335 and parameters: {'learning_rate': 0.08144084437282055, 'colsample_bytree': 0.7183962906075129, 'colsample_bynode': 0.5648590130226571, 'lambda_l1': 0.9819997013094559, 'lambda_l2': 2.045839533454735, 'min_data_in_leaf': 154, 'max_depth': 9, 'max_bin': 879, 'objective': 'regression'}. Best is trial 63 with value: 62.61718036113329.\n"
     ]
    },
    {
     "name": "stderr",
     "output_type": "stream",
     "text": [
      "/Users/sekishunfutoshi/anaconda3/lib/python3.11/site-packages/lightgbm/engine.py:172: UserWarning: Found `n_iter` in params. Will use it instead of argument\n",
      "  _log_warning(f\"Found `{alias}` in params. Will use it instead of argument\")\n"
     ]
    },
    {
     "name": "stdout",
     "output_type": "stream",
     "text": [
      "[I 2023-12-19 23:22:00,941] Trial 73 finished with value: 64.59423183918982 and parameters: {'learning_rate': 0.07803002882885224, 'colsample_bytree': 0.6793429509386956, 'colsample_bynode': 0.5751282185441736, 'lambda_l1': 1.451350010343533, 'lambda_l2': 2.5203766918075874, 'min_data_in_leaf': 175, 'max_depth': 9, 'max_bin': 914, 'objective': 'regression'}. Best is trial 63 with value: 62.61718036113329.\n"
     ]
    },
    {
     "name": "stderr",
     "output_type": "stream",
     "text": [
      "/Users/sekishunfutoshi/anaconda3/lib/python3.11/site-packages/lightgbm/engine.py:172: UserWarning: Found `n_iter` in params. Will use it instead of argument\n",
      "  _log_warning(f\"Found `{alias}` in params. Will use it instead of argument\")\n"
     ]
    },
    {
     "name": "stdout",
     "output_type": "stream",
     "text": [
      "[I 2023-12-19 23:23:37,413] Trial 74 finished with value: 62.775753124586856 and parameters: {'learning_rate': 0.07032018277568776, 'colsample_bytree': 0.6675698298775996, 'colsample_bynode': 0.585514763596338, 'lambda_l1': 0.574056179207332, 'lambda_l2': 1.4459733783354998, 'min_data_in_leaf': 157, 'max_depth': 8, 'max_bin': 989, 'objective': 'regression'}. Best is trial 63 with value: 62.61718036113329.\n"
     ]
    },
    {
     "name": "stderr",
     "output_type": "stream",
     "text": [
      "/Users/sekishunfutoshi/anaconda3/lib/python3.11/site-packages/lightgbm/engine.py:172: UserWarning: Found `n_iter` in params. Will use it instead of argument\n",
      "  _log_warning(f\"Found `{alias}` in params. Will use it instead of argument\")\n"
     ]
    },
    {
     "name": "stdout",
     "output_type": "stream",
     "text": [
      "[I 2023-12-19 23:25:13,370] Trial 75 finished with value: 63.59773939719624 and parameters: {'learning_rate': 0.06967008248151312, 'colsample_bytree': 0.6644163057356616, 'colsample_bynode': 0.5510658100394441, 'lambda_l1': 0.6113714950662702, 'lambda_l2': 1.1091978280873893, 'min_data_in_leaf': 204, 'max_depth': 8, 'max_bin': 992, 'objective': 'regression'}. Best is trial 63 with value: 62.61718036113329.\n"
     ]
    },
    {
     "name": "stderr",
     "output_type": "stream",
     "text": [
      "/Users/sekishunfutoshi/anaconda3/lib/python3.11/site-packages/lightgbm/engine.py:172: UserWarning: Found `n_iter` in params. Will use it instead of argument\n",
      "  _log_warning(f\"Found `{alias}` in params. Will use it instead of argument\")\n"
     ]
    },
    {
     "name": "stdout",
     "output_type": "stream",
     "text": [
      "[I 2023-12-19 23:26:49,089] Trial 76 finished with value: 64.02931333364417 and parameters: {'learning_rate': 0.07634978354843572, 'colsample_bytree': 0.6437014248607419, 'colsample_bynode': 0.5880017025597388, 'lambda_l1': 0.250807382184689, 'lambda_l2': 0.545344317522583, 'min_data_in_leaf': 163, 'max_depth': 9, 'max_bin': 984, 'objective': 'regression'}. Best is trial 63 with value: 62.61718036113329.\n"
     ]
    },
    {
     "name": "stderr",
     "output_type": "stream",
     "text": [
      "/Users/sekishunfutoshi/anaconda3/lib/python3.11/site-packages/lightgbm/engine.py:172: UserWarning: Found `n_iter` in params. Will use it instead of argument\n",
      "  _log_warning(f\"Found `{alias}` in params. Will use it instead of argument\")\n"
     ]
    },
    {
     "name": "stdout",
     "output_type": "stream",
     "text": [
      "[I 2023-12-19 23:28:18,732] Trial 77 finished with value: 64.59531513046481 and parameters: {'learning_rate': 0.08206373044679245, 'colsample_bytree': 0.6773889987289902, 'colsample_bynode': 0.6272853946328861, 'lambda_l1': 0.018893083430796542, 'lambda_l2': 1.4552762529872711, 'min_data_in_leaf': 149, 'max_depth': 8, 'max_bin': 796, 'objective': 'regression'}. Best is trial 63 with value: 62.61718036113329.\n"
     ]
    },
    {
     "name": "stderr",
     "output_type": "stream",
     "text": [
      "/Users/sekishunfutoshi/anaconda3/lib/python3.11/site-packages/lightgbm/engine.py:172: UserWarning: Found `n_iter` in params. Will use it instead of argument\n",
      "  _log_warning(f\"Found `{alias}` in params. Will use it instead of argument\")\n"
     ]
    },
    {
     "name": "stdout",
     "output_type": "stream",
     "text": [
      "[I 2023-12-19 23:29:51,168] Trial 78 finished with value: 64.26635811024927 and parameters: {'learning_rate': 0.08676017837863294, 'colsample_bytree': 0.7491665902678234, 'colsample_bynode': 0.5456795725873986, 'lambda_l1': 0.6606050228828279, 'lambda_l2': 1.4757429592693219, 'min_data_in_leaf': 184, 'max_depth': 8, 'max_bin': 858, 'objective': 'regression'}. Best is trial 63 with value: 62.61718036113329.\n"
     ]
    },
    {
     "name": "stderr",
     "output_type": "stream",
     "text": [
      "/Users/sekishunfutoshi/anaconda3/lib/python3.11/site-packages/lightgbm/engine.py:172: UserWarning: Found `n_iter` in params. Will use it instead of argument\n",
      "  _log_warning(f\"Found `{alias}` in params. Will use it instead of argument\")\n"
     ]
    },
    {
     "name": "stdout",
     "output_type": "stream",
     "text": [
      "[I 2023-12-19 23:31:24,256] Trial 79 finished with value: 63.009473485574055 and parameters: {'learning_rate': 0.08350871276386847, 'colsample_bytree': 0.6916801218906917, 'colsample_bynode': 0.6158212599995496, 'lambda_l1': 1.4918104880667218, 'lambda_l2': 1.9200879984507895, 'min_data_in_leaf': 126, 'max_depth': 10, 'max_bin': 953, 'objective': 'regression'}. Best is trial 63 with value: 62.61718036113329.\n"
     ]
    },
    {
     "name": "stderr",
     "output_type": "stream",
     "text": [
      "/Users/sekishunfutoshi/anaconda3/lib/python3.11/site-packages/lightgbm/engine.py:172: UserWarning: Found `n_iter` in params. Will use it instead of argument\n",
      "  _log_warning(f\"Found `{alias}` in params. Will use it instead of argument\")\n"
     ]
    },
    {
     "name": "stdout",
     "output_type": "stream",
     "text": [
      "[I 2023-12-19 23:33:44,328] Trial 80 finished with value: 352.66824038066807 and parameters: {'learning_rate': 0.0842446376903542, 'colsample_bytree': 0.6899387320436521, 'colsample_bynode': 0.6126616225983019, 'lambda_l1': 1.9561523265808338, 'lambda_l2': 1.004458222754603, 'min_data_in_leaf': 137, 'max_depth': 10, 'max_bin': 898, 'objective': 'huber'}. Best is trial 63 with value: 62.61718036113329.\n"
     ]
    },
    {
     "name": "stderr",
     "output_type": "stream",
     "text": [
      "/Users/sekishunfutoshi/anaconda3/lib/python3.11/site-packages/lightgbm/engine.py:172: UserWarning: Found `n_iter` in params. Will use it instead of argument\n",
      "  _log_warning(f\"Found `{alias}` in params. Will use it instead of argument\")\n"
     ]
    },
    {
     "name": "stdout",
     "output_type": "stream",
     "text": [
      "[I 2023-12-19 23:35:19,514] Trial 81 finished with value: 63.341691673688125 and parameters: {'learning_rate': 0.07274138446815713, 'colsample_bytree': 0.7204228400060463, 'colsample_bynode': 0.5958933172937354, 'lambda_l1': 1.429305185344559, 'lambda_l2': 1.803176244558351, 'min_data_in_leaf': 122, 'max_depth': 10, 'max_bin': 961, 'objective': 'regression'}. Best is trial 63 with value: 62.61718036113329.\n"
     ]
    },
    {
     "name": "stderr",
     "output_type": "stream",
     "text": [
      "/Users/sekishunfutoshi/anaconda3/lib/python3.11/site-packages/lightgbm/engine.py:172: UserWarning: Found `n_iter` in params. Will use it instead of argument\n",
      "  _log_warning(f\"Found `{alias}` in params. Will use it instead of argument\")\n"
     ]
    },
    {
     "name": "stdout",
     "output_type": "stream",
     "text": [
      "[I 2023-12-19 23:36:54,454] Trial 82 finished with value: 63.2730419279811 and parameters: {'learning_rate': 0.0827237170880476, 'colsample_bytree': 0.7331948350447401, 'colsample_bynode': 0.5626782879656779, 'lambda_l1': 1.2467212638412721, 'lambda_l2': 2.0377067297161355, 'min_data_in_leaf': 157, 'max_depth': 10, 'max_bin': 994, 'objective': 'regression'}. Best is trial 63 with value: 62.61718036113329.\n"
     ]
    },
    {
     "name": "stderr",
     "output_type": "stream",
     "text": [
      "/Users/sekishunfutoshi/anaconda3/lib/python3.11/site-packages/lightgbm/engine.py:172: UserWarning: Found `n_iter` in params. Will use it instead of argument\n",
      "  _log_warning(f\"Found `{alias}` in params. Will use it instead of argument\")\n"
     ]
    },
    {
     "name": "stdout",
     "output_type": "stream",
     "text": [
      "[I 2023-12-19 23:38:26,425] Trial 83 finished with value: 63.41001706807907 and parameters: {'learning_rate': 0.08600096369033419, 'colsample_bytree': 0.7012586799381573, 'colsample_bynode': 0.5360811502116121, 'lambda_l1': 0.8594445130147346, 'lambda_l2': 1.30017808853996, 'min_data_in_leaf': 128, 'max_depth': 10, 'max_bin': 918, 'objective': 'regression'}. Best is trial 63 with value: 62.61718036113329.\n"
     ]
    },
    {
     "name": "stderr",
     "output_type": "stream",
     "text": [
      "/Users/sekishunfutoshi/anaconda3/lib/python3.11/site-packages/lightgbm/engine.py:172: UserWarning: Found `n_iter` in params. Will use it instead of argument\n",
      "  _log_warning(f\"Found `{alias}` in params. Will use it instead of argument\")\n"
     ]
    },
    {
     "name": "stdout",
     "output_type": "stream",
     "text": [
      "[I 2023-12-19 23:39:57,405] Trial 84 finished with value: 63.36949342341671 and parameters: {'learning_rate': 0.07831065131530718, 'colsample_bytree': 0.6491886537294157, 'colsample_bynode': 0.5684602405662275, 'lambda_l1': 1.4857880945229063, 'lambda_l2': 3.0921664737429992, 'min_data_in_leaf': 169, 'max_depth': 9, 'max_bin': 825, 'objective': 'regression'}. Best is trial 63 with value: 62.61718036113329.\n"
     ]
    },
    {
     "name": "stderr",
     "output_type": "stream",
     "text": [
      "/Users/sekishunfutoshi/anaconda3/lib/python3.11/site-packages/lightgbm/engine.py:172: UserWarning: Found `n_iter` in params. Will use it instead of argument\n",
      "  _log_warning(f\"Found `{alias}` in params. Will use it instead of argument\")\n"
     ]
    },
    {
     "name": "stdout",
     "output_type": "stream",
     "text": [
      "[I 2023-12-19 23:41:31,694] Trial 85 finished with value: 64.34773291527004 and parameters: {'learning_rate': 0.08957835691786405, 'colsample_bytree': 0.6694956410097197, 'colsample_bynode': 0.5839140724446183, 'lambda_l1': 0.26344949537270784, 'lambda_l2': 0.7367835324008578, 'min_data_in_leaf': 147, 'max_depth': 10, 'max_bin': 959, 'objective': 'regression'}. Best is trial 63 with value: 62.61718036113329.\n"
     ]
    },
    {
     "name": "stderr",
     "output_type": "stream",
     "text": [
      "/Users/sekishunfutoshi/anaconda3/lib/python3.11/site-packages/lightgbm/engine.py:172: UserWarning: Found `n_iter` in params. Will use it instead of argument\n",
      "  _log_warning(f\"Found `{alias}` in params. Will use it instead of argument\")\n"
     ]
    },
    {
     "name": "stdout",
     "output_type": "stream",
     "text": [
      "[I 2023-12-19 23:43:03,957] Trial 86 finished with value: 63.32349040070592 and parameters: {'learning_rate': 0.07470110608331543, 'colsample_bytree': 0.713652720398745, 'colsample_bynode': 0.6122952071229429, 'lambda_l1': 0.5424222642211679, 'lambda_l2': 1.651311444204795, 'min_data_in_leaf': 108, 'max_depth': 10, 'max_bin': 878, 'objective': 'regression'}. Best is trial 63 with value: 62.61718036113329.\n"
     ]
    },
    {
     "name": "stderr",
     "output_type": "stream",
     "text": [
      "/Users/sekishunfutoshi/anaconda3/lib/python3.11/site-packages/lightgbm/engine.py:172: UserWarning: Found `n_iter` in params. Will use it instead of argument\n",
      "  _log_warning(f\"Found `{alias}` in params. Will use it instead of argument\")\n"
     ]
    },
    {
     "name": "stdout",
     "output_type": "stream",
     "text": [
      "[I 2023-12-19 23:44:37,881] Trial 87 finished with value: 63.627344423867854 and parameters: {'learning_rate': 0.0797400707812084, 'colsample_bytree': 0.6895386522380111, 'colsample_bynode': 0.5168367818373887, 'lambda_l1': 1.1855203891398447, 'lambda_l2': 2.2564217433029823, 'min_data_in_leaf': 139, 'max_depth': 9, 'max_bin': 998, 'objective': 'regression'}. Best is trial 63 with value: 62.61718036113329.\n"
     ]
    },
    {
     "name": "stderr",
     "output_type": "stream",
     "text": [
      "/Users/sekishunfutoshi/anaconda3/lib/python3.11/site-packages/lightgbm/engine.py:172: UserWarning: Found `n_iter` in params. Will use it instead of argument\n",
      "  _log_warning(f\"Found `{alias}` in params. Will use it instead of argument\")\n"
     ]
    },
    {
     "name": "stdout",
     "output_type": "stream",
     "text": [
      "[I 2023-12-19 23:47:02,566] Trial 88 finished with value: 73.62057670768517 and parameters: {'learning_rate': 0.0829447220224645, 'colsample_bytree': 0.7363917188674689, 'colsample_bynode': 0.5565180915867457, 'lambda_l1': 1.902721832441445, 'lambda_l2': 3.4600564622125787, 'min_data_in_leaf': 187, 'max_depth': 10, 'max_bin': 946, 'objective': 'regression_l1'}. Best is trial 63 with value: 62.61718036113329.\n"
     ]
    },
    {
     "name": "stderr",
     "output_type": "stream",
     "text": [
      "/Users/sekishunfutoshi/anaconda3/lib/python3.11/site-packages/lightgbm/engine.py:172: UserWarning: Found `n_iter` in params. Will use it instead of argument\n",
      "  _log_warning(f\"Found `{alias}` in params. Will use it instead of argument\")\n"
     ]
    },
    {
     "name": "stdout",
     "output_type": "stream",
     "text": [
      "[I 2023-12-19 23:48:36,222] Trial 89 finished with value: 64.36022994365831 and parameters: {'learning_rate': 0.07667601354150169, 'colsample_bytree': 0.7482697110076176, 'colsample_bynode': 0.5943607745447926, 'lambda_l1': 1.5398927742806583, 'lambda_l2': 1.278020195431496, 'min_data_in_leaf': 196, 'max_depth': 8, 'max_bin': 910, 'objective': 'regression'}. Best is trial 63 with value: 62.61718036113329.\n"
     ]
    },
    {
     "name": "stderr",
     "output_type": "stream",
     "text": [
      "/Users/sekishunfutoshi/anaconda3/lib/python3.11/site-packages/lightgbm/engine.py:172: UserWarning: Found `n_iter` in params. Will use it instead of argument\n",
      "  _log_warning(f\"Found `{alias}` in params. Will use it instead of argument\")\n"
     ]
    },
    {
     "name": "stdout",
     "output_type": "stream",
     "text": [
      "[I 2023-12-19 23:50:09,430] Trial 90 finished with value: 62.699737656351395 and parameters: {'learning_rate': 0.07080204187983008, 'colsample_bytree': 0.6749801170798487, 'colsample_bynode': 0.5400722250452618, 'lambda_l1': 2.1575601096962553, 'lambda_l2': 2.693018864511733, 'min_data_in_leaf': 160, 'max_depth': 9, 'max_bin': 847, 'objective': 'regression'}. Best is trial 63 with value: 62.61718036113329.\n"
     ]
    },
    {
     "name": "stderr",
     "output_type": "stream",
     "text": [
      "/Users/sekishunfutoshi/anaconda3/lib/python3.11/site-packages/lightgbm/engine.py:172: UserWarning: Found `n_iter` in params. Will use it instead of argument\n",
      "  _log_warning(f\"Found `{alias}` in params. Will use it instead of argument\")\n"
     ]
    },
    {
     "name": "stdout",
     "output_type": "stream",
     "text": [
      "[I 2023-12-19 23:51:41,180] Trial 91 finished with value: 63.78776903583616 and parameters: {'learning_rate': 0.06782169875629462, 'colsample_bytree': 0.6678883875519281, 'colsample_bynode': 0.530976484552227, 'lambda_l1': 2.151442221526283, 'lambda_l2': 2.6812341116597347, 'min_data_in_leaf': 160, 'max_depth': 9, 'max_bin': 839, 'objective': 'regression'}. Best is trial 63 with value: 62.61718036113329.\n"
     ]
    },
    {
     "name": "stderr",
     "output_type": "stream",
     "text": [
      "/Users/sekishunfutoshi/anaconda3/lib/python3.11/site-packages/lightgbm/engine.py:172: UserWarning: Found `n_iter` in params. Will use it instead of argument\n",
      "  _log_warning(f\"Found `{alias}` in params. Will use it instead of argument\")\n"
     ]
    },
    {
     "name": "stdout",
     "output_type": "stream",
     "text": [
      "[I 2023-12-19 23:53:18,219] Trial 92 finished with value: 63.53534911385256 and parameters: {'learning_rate': 0.07120997785697666, 'colsample_bytree': 0.7003670157351496, 'colsample_bynode': 0.5447729260754399, 'lambda_l1': 1.6329979232470782, 'lambda_l2': 3.030718834153986, 'min_data_in_leaf': 181, 'max_depth': 9, 'max_bin': 874, 'objective': 'regression'}. Best is trial 63 with value: 62.61718036113329.\n"
     ]
    },
    {
     "name": "stderr",
     "output_type": "stream",
     "text": [
      "/Users/sekishunfutoshi/anaconda3/lib/python3.11/site-packages/lightgbm/engine.py:172: UserWarning: Found `n_iter` in params. Will use it instead of argument\n",
      "  _log_warning(f\"Found `{alias}` in params. Will use it instead of argument\")\n"
     ]
    },
    {
     "name": "stdout",
     "output_type": "stream",
     "text": [
      "[I 2023-12-19 23:54:54,599] Trial 93 finished with value: 63.61480595428734 and parameters: {'learning_rate': 0.07309425161569867, 'colsample_bytree': 0.6800909184394296, 'colsample_bynode': 0.572022696258895, 'lambda_l1': 0.827955510671578, 'lambda_l2': 2.286088871111954, 'min_data_in_leaf': 167, 'max_depth': 10, 'max_bin': 969, 'objective': 'regression'}. Best is trial 63 with value: 62.61718036113329.\n"
     ]
    },
    {
     "name": "stderr",
     "output_type": "stream",
     "text": [
      "/Users/sekishunfutoshi/anaconda3/lib/python3.11/site-packages/lightgbm/engine.py:172: UserWarning: Found `n_iter` in params. Will use it instead of argument\n",
      "  _log_warning(f\"Found `{alias}` in params. Will use it instead of argument\")\n"
     ]
    },
    {
     "name": "stdout",
     "output_type": "stream",
     "text": [
      "[I 2023-12-19 23:56:29,528] Trial 94 finished with value: 64.4935888787379 and parameters: {'learning_rate': 0.063051832796891, 'colsample_bytree': 0.7125820308270756, 'colsample_bynode': 0.5122683668687619, 'lambda_l1': 1.151012038567258, 'lambda_l2': 1.9610907996112392, 'min_data_in_leaf': 152, 'max_depth': 9, 'max_bin': 928, 'objective': 'regression'}. Best is trial 63 with value: 62.61718036113329.\n"
     ]
    },
    {
     "name": "stderr",
     "output_type": "stream",
     "text": [
      "/Users/sekishunfutoshi/anaconda3/lib/python3.11/site-packages/lightgbm/engine.py:172: UserWarning: Found `n_iter` in params. Will use it instead of argument\n",
      "  _log_warning(f\"Found `{alias}` in params. Will use it instead of argument\")\n"
     ]
    },
    {
     "name": "stdout",
     "output_type": "stream",
     "text": [
      "[I 2023-12-19 23:58:20,399] Trial 95 finished with value: 596.1057098346478 and parameters: {'learning_rate': 0.08782719363637574, 'colsample_bytree': 0.6565872465332724, 'colsample_bynode': 0.5300068415644668, 'lambda_l1': 1.923516931808626, 'lambda_l2': 2.7019857155381786, 'min_data_in_leaf': 125, 'max_depth': 8, 'max_bin': 855, 'objective': 'fair'}. Best is trial 63 with value: 62.61718036113329.\n"
     ]
    },
    {
     "name": "stderr",
     "output_type": "stream",
     "text": [
      "/Users/sekishunfutoshi/anaconda3/lib/python3.11/site-packages/lightgbm/engine.py:172: UserWarning: Found `n_iter` in params. Will use it instead of argument\n",
      "  _log_warning(f\"Found `{alias}` in params. Will use it instead of argument\")\n"
     ]
    },
    {
     "name": "stdout",
     "output_type": "stream",
     "text": [
      "[I 2023-12-19 23:59:49,939] Trial 96 finished with value: 63.134740128111936 and parameters: {'learning_rate': 0.0856007795850326, 'colsample_bytree': 0.6366580421596469, 'colsample_bynode': 0.5531941002018655, 'lambda_l1': 0.568641712153015, 'lambda_l2': 1.8191394650901094, 'min_data_in_leaf': 146, 'max_depth': 10, 'max_bin': 807, 'objective': 'regression'}. Best is trial 63 with value: 62.61718036113329.\n"
     ]
    },
    {
     "name": "stderr",
     "output_type": "stream",
     "text": [
      "/Users/sekishunfutoshi/anaconda3/lib/python3.11/site-packages/lightgbm/engine.py:172: UserWarning: Found `n_iter` in params. Will use it instead of argument\n",
      "  _log_warning(f\"Found `{alias}` in params. Will use it instead of argument\")\n"
     ]
    },
    {
     "name": "stdout",
     "output_type": "stream",
     "text": [
      "[I 2023-12-20 00:01:17,474] Trial 97 finished with value: 64.21538777898934 and parameters: {'learning_rate': 0.0853685013580283, 'colsample_bytree': 0.6391508696343667, 'colsample_bynode': 0.5905254809696934, 'lambda_l1': 0.5160670029553193, 'lambda_l2': 1.591842310457785, 'min_data_in_leaf': 120, 'max_depth': 10, 'max_bin': 722, 'objective': 'regression'}. Best is trial 63 with value: 62.61718036113329.\n"
     ]
    },
    {
     "name": "stderr",
     "output_type": "stream",
     "text": [
      "/Users/sekishunfutoshi/anaconda3/lib/python3.11/site-packages/lightgbm/engine.py:172: UserWarning: Found `n_iter` in params. Will use it instead of argument\n",
      "  _log_warning(f\"Found `{alias}` in params. Will use it instead of argument\")\n"
     ]
    },
    {
     "name": "stdout",
     "output_type": "stream",
     "text": [
      "[I 2023-12-20 00:02:45,979] Trial 98 finished with value: 63.86778712988791 and parameters: {'learning_rate': 0.09295939953936543, 'colsample_bytree': 0.6230521144043046, 'colsample_bynode': 0.564561753717018, 'lambda_l1': 2.2373800359654745, 'lambda_l2': 1.8660172017465244, 'min_data_in_leaf': 157, 'max_depth': 10, 'max_bin': 775, 'objective': 'regression'}. Best is trial 63 with value: 62.61718036113329.\n"
     ]
    },
    {
     "name": "stderr",
     "output_type": "stream",
     "text": [
      "/Users/sekishunfutoshi/anaconda3/lib/python3.11/site-packages/lightgbm/engine.py:172: UserWarning: Found `n_iter` in params. Will use it instead of argument\n",
      "  _log_warning(f\"Found `{alias}` in params. Will use it instead of argument\")\n"
     ]
    },
    {
     "name": "stdout",
     "output_type": "stream",
     "text": [
      "[I 2023-12-20 00:04:16,206] Trial 99 finished with value: 64.42605119245918 and parameters: {'learning_rate': 0.08238920165905475, 'colsample_bytree': 0.6477828230638696, 'colsample_bynode': 0.6024477779192345, 'lambda_l1': 2.7463984078024937, 'lambda_l2': 1.1327059602814233, 'min_data_in_leaf': 144, 'max_depth': 10, 'max_bin': 792, 'objective': 'regression'}. Best is trial 63 with value: 62.61718036113329.\n",
      "Best Params: {'learning_rate': 0.08072727696049717, 'colsample_bytree': 0.7107613501491252, 'colsample_bynode': 0.579127562270319, 'lambda_l1': 0.3688343201590739, 'lambda_l2': 2.5405843112295075, 'min_data_in_leaf': 179, 'max_depth': 9, 'max_bin': 944, 'objective': 'regression'}\n"
     ]
    }
   ],
   "source": [
    "study = optuna.create_study(direction='minimize', study_name='Regressor')\n",
    "study.optimize(lgb_objective, n_trials=100, show_progress_bar=True)\n",
    "best_params = study.best_params\n",
    "print(\"Best Params:\", best_params)"
   ]
  },
  {
   "cell_type": "code",
   "execution_count": 13,
   "id": "595eb49b",
   "metadata": {
    "execution": {
     "iopub.execute_input": "2023-11-20T11:30:44.110961Z",
     "iopub.status.busy": "2023-11-20T11:30:44.110472Z",
     "iopub.status.idle": "2023-11-20T11:30:44.118078Z",
     "shell.execute_reply": "2023-11-20T11:30:44.116749Z"
    },
    "papermill": {
     "duration": 0.02008,
     "end_time": "2023-11-20T11:30:44.120661",
     "exception": false,
     "start_time": "2023-11-20T11:30:44.100581",
     "status": "completed"
    },
    "tags": []
   },
   "outputs": [],
   "source": [
    "best_params = {\n",
    "    'n_iter'           : 900,\n",
    "    'verbose'          : -1,\n",
    "    'objective'        : 'regression',\n",
    "    'learning_rate'    : 0.08072727696049717,\n",
    "    'colsample_bytree' : 0.7107613501491252,\n",
    "    'colsample_bynode' : 0.579127562270319,\n",
    "    'lambda_l1'        : 0.3688343201590739,\n",
    "    'lambda_l2'        : 2.5405843112295075,\n",
    "    'min_data_in_leaf' : 179,\n",
    "    'max_depth'        : 9,\n",
    "    'max_bin'          : 944,\n",
    "} # val score is 62.24 for the last month"
   ]
  },
  {
   "cell_type": "markdown",
   "id": "6a3de752",
   "metadata": {
    "papermill": {
     "duration": 0.007871,
     "end_time": "2023-11-20T11:30:44.136655",
     "exception": false,
     "start_time": "2023-11-20T11:30:44.128784",
     "status": "completed"
    },
    "tags": []
   },
   "source": [
    "### Validation"
   ]
  },
  {
   "cell_type": "code",
   "execution_count": 14,
   "id": "de4b9b10",
   "metadata": {
    "execution": {
     "iopub.execute_input": "2023-11-20T11:30:44.156258Z",
     "iopub.status.busy": "2023-11-20T11:30:44.154939Z",
     "iopub.status.idle": "2023-11-20T11:30:44.164414Z",
     "shell.execute_reply": "2023-11-20T11:30:44.163536Z"
    },
    "papermill": {
     "duration": 0.021898,
     "end_time": "2023-11-20T11:30:44.166851",
     "exception": false,
     "start_time": "2023-11-20T11:30:44.144953",
     "status": "completed"
    },
    "tags": []
   },
   "outputs": [
    {
     "name": "stderr",
     "output_type": "stream",
     "text": [
      "/Users/sekishunfutoshi/anaconda3/lib/python3.11/site-packages/lightgbm/engine.py:172: UserWarning: Found `n_iter` in params. Will use it instead of argument\n",
      "  _log_warning(f\"Found `{alias}` in params. Will use it instead of argument\")\n"
     ]
    },
    {
     "ename": "KeyboardInterrupt",
     "evalue": "",
     "output_type": "error",
     "traceback": [
      "\u001b[0;31m---------------------------------------------------------------------------\u001b[0m",
      "\u001b[0;31mKeyboardInterrupt\u001b[0m                         Traceback (most recent call last)",
      "\u001b[1;32m/Users/sekishunfutoshi/Desktop/kaggle/enefit/input/predict-energy-behavior-of-prosumers/code.ipynb セル 19\u001b[0m line \u001b[0;36m1\n\u001b[0;32m----> <a href='vscode-notebook-cell:/Users/sekishunfutoshi/Desktop/kaggle/enefit/input/predict-energy-behavior-of-prosumers/code.ipynb#X24sZmlsZQ%3D%3D?line=0'>1</a>\u001b[0m result \u001b[39m=\u001b[39m cross_validate(\n\u001b[1;32m      <a href='vscode-notebook-cell:/Users/sekishunfutoshi/Desktop/kaggle/enefit/input/predict-energy-behavior-of-prosumers/code.ipynb#X24sZmlsZQ%3D%3D?line=1'>2</a>\u001b[0m     estimator\u001b[39m=\u001b[39mlgb\u001b[39m.\u001b[39mLGBMRegressor(\u001b[39m*\u001b[39m\u001b[39m*\u001b[39mbest_params, random_state\u001b[39m=\u001b[39m\u001b[39m42\u001b[39m),\n\u001b[1;32m      <a href='vscode-notebook-cell:/Users/sekishunfutoshi/Desktop/kaggle/enefit/input/predict-energy-behavior-of-prosumers/code.ipynb#X24sZmlsZQ%3D%3D?line=2'>3</a>\u001b[0m     X\u001b[39m=\u001b[39mdf_train\u001b[39m.\u001b[39mdrop(columns\u001b[39m=\u001b[39m[\u001b[39m\"\u001b[39m\u001b[39mtarget\u001b[39m\u001b[39m\"\u001b[39m]), \n\u001b[1;32m      <a href='vscode-notebook-cell:/Users/sekishunfutoshi/Desktop/kaggle/enefit/input/predict-energy-behavior-of-prosumers/code.ipynb#X24sZmlsZQ%3D%3D?line=3'>4</a>\u001b[0m     y\u001b[39m=\u001b[39mdf_train[\u001b[39m\"\u001b[39m\u001b[39mtarget\u001b[39m\u001b[39m\"\u001b[39m],\n\u001b[1;32m      <a href='vscode-notebook-cell:/Users/sekishunfutoshi/Desktop/kaggle/enefit/input/predict-energy-behavior-of-prosumers/code.ipynb#X24sZmlsZQ%3D%3D?line=4'>5</a>\u001b[0m     scoring\u001b[39m=\u001b[39m\u001b[39m\"\u001b[39m\u001b[39mneg_mean_absolute_error\u001b[39m\u001b[39m\"\u001b[39m,\n\u001b[1;32m      <a href='vscode-notebook-cell:/Users/sekishunfutoshi/Desktop/kaggle/enefit/input/predict-energy-behavior-of-prosumers/code.ipynb#X24sZmlsZQ%3D%3D?line=5'>6</a>\u001b[0m     cv\u001b[39m=\u001b[39mMonthlyKFold(\u001b[39m1\u001b[39m),\n\u001b[1;32m      <a href='vscode-notebook-cell:/Users/sekishunfutoshi/Desktop/kaggle/enefit/input/predict-energy-behavior-of-prosumers/code.ipynb#X24sZmlsZQ%3D%3D?line=6'>7</a>\u001b[0m )\n\u001b[1;32m      <a href='vscode-notebook-cell:/Users/sekishunfutoshi/Desktop/kaggle/enefit/input/predict-energy-behavior-of-prosumers/code.ipynb#X24sZmlsZQ%3D%3D?line=8'>9</a>\u001b[0m \u001b[39mprint\u001b[39m(\u001b[39mf\u001b[39m\u001b[39m\"\u001b[39m\u001b[39mFit Time(s): \u001b[39m\u001b[39m{\u001b[39;00mresult[\u001b[39m'\u001b[39m\u001b[39mfit_time\u001b[39m\u001b[39m'\u001b[39m]\u001b[39m.\u001b[39mmean()\u001b[39m:\u001b[39;00m\u001b[39m.3f\u001b[39m\u001b[39m}\u001b[39;00m\u001b[39m\"\u001b[39m)\n\u001b[1;32m     <a href='vscode-notebook-cell:/Users/sekishunfutoshi/Desktop/kaggle/enefit/input/predict-energy-behavior-of-prosumers/code.ipynb#X24sZmlsZQ%3D%3D?line=9'>10</a>\u001b[0m \u001b[39mprint\u001b[39m(\u001b[39mf\u001b[39m\u001b[39m\"\u001b[39m\u001b[39mScore Time(s): \u001b[39m\u001b[39m{\u001b[39;00mresult[\u001b[39m'\u001b[39m\u001b[39mscore_time\u001b[39m\u001b[39m'\u001b[39m]\u001b[39m.\u001b[39mmean()\u001b[39m:\u001b[39;00m\u001b[39m.3f\u001b[39m\u001b[39m}\u001b[39;00m\u001b[39m\"\u001b[39m)\n",
      "File \u001b[0;32m~/anaconda3/lib/python3.11/site-packages/sklearn/utils/_param_validation.py:211\u001b[0m, in \u001b[0;36mvalidate_params.<locals>.decorator.<locals>.wrapper\u001b[0;34m(*args, **kwargs)\u001b[0m\n\u001b[1;32m    205\u001b[0m \u001b[39mtry\u001b[39;00m:\n\u001b[1;32m    206\u001b[0m     \u001b[39mwith\u001b[39;00m config_context(\n\u001b[1;32m    207\u001b[0m         skip_parameter_validation\u001b[39m=\u001b[39m(\n\u001b[1;32m    208\u001b[0m             prefer_skip_nested_validation \u001b[39mor\u001b[39;00m global_skip_validation\n\u001b[1;32m    209\u001b[0m         )\n\u001b[1;32m    210\u001b[0m     ):\n\u001b[0;32m--> 211\u001b[0m         \u001b[39mreturn\u001b[39;00m func(\u001b[39m*\u001b[39margs, \u001b[39m*\u001b[39m\u001b[39m*\u001b[39mkwargs)\n\u001b[1;32m    212\u001b[0m \u001b[39mexcept\u001b[39;00m InvalidParameterError \u001b[39mas\u001b[39;00m e:\n\u001b[1;32m    213\u001b[0m     \u001b[39m# When the function is just a wrapper around an estimator, we allow\u001b[39;00m\n\u001b[1;32m    214\u001b[0m     \u001b[39m# the function to delegate validation to the estimator, but we replace\u001b[39;00m\n\u001b[1;32m    215\u001b[0m     \u001b[39m# the name of the estimator by the name of the function in the error\u001b[39;00m\n\u001b[1;32m    216\u001b[0m     \u001b[39m# message to avoid confusion.\u001b[39;00m\n\u001b[1;32m    217\u001b[0m     msg \u001b[39m=\u001b[39m re\u001b[39m.\u001b[39msub(\n\u001b[1;32m    218\u001b[0m         \u001b[39mr\u001b[39m\u001b[39m\"\u001b[39m\u001b[39mparameter of \u001b[39m\u001b[39m\\\u001b[39m\u001b[39mw+ must be\u001b[39m\u001b[39m\"\u001b[39m,\n\u001b[1;32m    219\u001b[0m         \u001b[39mf\u001b[39m\u001b[39m\"\u001b[39m\u001b[39mparameter of \u001b[39m\u001b[39m{\u001b[39;00mfunc\u001b[39m.\u001b[39m\u001b[39m__qualname__\u001b[39m\u001b[39m}\u001b[39;00m\u001b[39m must be\u001b[39m\u001b[39m\"\u001b[39m,\n\u001b[1;32m    220\u001b[0m         \u001b[39mstr\u001b[39m(e),\n\u001b[1;32m    221\u001b[0m     )\n",
      "File \u001b[0;32m~/anaconda3/lib/python3.11/site-packages/sklearn/model_selection/_validation.py:309\u001b[0m, in \u001b[0;36mcross_validate\u001b[0;34m(estimator, X, y, groups, scoring, cv, n_jobs, verbose, fit_params, pre_dispatch, return_train_score, return_estimator, return_indices, error_score)\u001b[0m\n\u001b[1;32m    306\u001b[0m \u001b[39m# We clone the estimator to make sure that all the folds are\u001b[39;00m\n\u001b[1;32m    307\u001b[0m \u001b[39m# independent, and that it is pickle-able.\u001b[39;00m\n\u001b[1;32m    308\u001b[0m parallel \u001b[39m=\u001b[39m Parallel(n_jobs\u001b[39m=\u001b[39mn_jobs, verbose\u001b[39m=\u001b[39mverbose, pre_dispatch\u001b[39m=\u001b[39mpre_dispatch)\n\u001b[0;32m--> 309\u001b[0m results \u001b[39m=\u001b[39m parallel(\n\u001b[1;32m    310\u001b[0m     delayed(_fit_and_score)(\n\u001b[1;32m    311\u001b[0m         clone(estimator),\n\u001b[1;32m    312\u001b[0m         X,\n\u001b[1;32m    313\u001b[0m         y,\n\u001b[1;32m    314\u001b[0m         scorers,\n\u001b[1;32m    315\u001b[0m         train,\n\u001b[1;32m    316\u001b[0m         test,\n\u001b[1;32m    317\u001b[0m         verbose,\n\u001b[1;32m    318\u001b[0m         \u001b[39mNone\u001b[39;00m,\n\u001b[1;32m    319\u001b[0m         fit_params,\n\u001b[1;32m    320\u001b[0m         return_train_score\u001b[39m=\u001b[39mreturn_train_score,\n\u001b[1;32m    321\u001b[0m         return_times\u001b[39m=\u001b[39m\u001b[39mTrue\u001b[39;00m,\n\u001b[1;32m    322\u001b[0m         return_estimator\u001b[39m=\u001b[39mreturn_estimator,\n\u001b[1;32m    323\u001b[0m         error_score\u001b[39m=\u001b[39merror_score,\n\u001b[1;32m    324\u001b[0m     )\n\u001b[1;32m    325\u001b[0m     \u001b[39mfor\u001b[39;00m train, test \u001b[39min\u001b[39;00m indices\n\u001b[1;32m    326\u001b[0m )\n\u001b[1;32m    328\u001b[0m _warn_or_raise_about_fit_failures(results, error_score)\n\u001b[1;32m    330\u001b[0m \u001b[39m# For callable scoring, the return type is only know after calling. If the\u001b[39;00m\n\u001b[1;32m    331\u001b[0m \u001b[39m# return type is a dictionary, the error scores can now be inserted with\u001b[39;00m\n\u001b[1;32m    332\u001b[0m \u001b[39m# the correct key.\u001b[39;00m\n",
      "File \u001b[0;32m~/anaconda3/lib/python3.11/site-packages/sklearn/utils/parallel.py:65\u001b[0m, in \u001b[0;36mParallel.__call__\u001b[0;34m(self, iterable)\u001b[0m\n\u001b[1;32m     60\u001b[0m config \u001b[39m=\u001b[39m get_config()\n\u001b[1;32m     61\u001b[0m iterable_with_config \u001b[39m=\u001b[39m (\n\u001b[1;32m     62\u001b[0m     (_with_config(delayed_func, config), args, kwargs)\n\u001b[1;32m     63\u001b[0m     \u001b[39mfor\u001b[39;00m delayed_func, args, kwargs \u001b[39min\u001b[39;00m iterable\n\u001b[1;32m     64\u001b[0m )\n\u001b[0;32m---> 65\u001b[0m \u001b[39mreturn\u001b[39;00m \u001b[39msuper\u001b[39m()\u001b[39m.\u001b[39m\u001b[39m__call__\u001b[39m(iterable_with_config)\n",
      "File \u001b[0;32m~/anaconda3/lib/python3.11/site-packages/joblib/parallel.py:1085\u001b[0m, in \u001b[0;36mParallel.__call__\u001b[0;34m(self, iterable)\u001b[0m\n\u001b[1;32m   1076\u001b[0m \u001b[39mtry\u001b[39;00m:\n\u001b[1;32m   1077\u001b[0m     \u001b[39m# Only set self._iterating to True if at least a batch\u001b[39;00m\n\u001b[1;32m   1078\u001b[0m     \u001b[39m# was dispatched. In particular this covers the edge\u001b[39;00m\n\u001b[0;32m   (...)\u001b[0m\n\u001b[1;32m   1082\u001b[0m     \u001b[39m# was very quick and its callback already dispatched all the\u001b[39;00m\n\u001b[1;32m   1083\u001b[0m     \u001b[39m# remaining jobs.\u001b[39;00m\n\u001b[1;32m   1084\u001b[0m     \u001b[39mself\u001b[39m\u001b[39m.\u001b[39m_iterating \u001b[39m=\u001b[39m \u001b[39mFalse\u001b[39;00m\n\u001b[0;32m-> 1085\u001b[0m     \u001b[39mif\u001b[39;00m \u001b[39mself\u001b[39m\u001b[39m.\u001b[39mdispatch_one_batch(iterator):\n\u001b[1;32m   1086\u001b[0m         \u001b[39mself\u001b[39m\u001b[39m.\u001b[39m_iterating \u001b[39m=\u001b[39m \u001b[39mself\u001b[39m\u001b[39m.\u001b[39m_original_iterator \u001b[39mis\u001b[39;00m \u001b[39mnot\u001b[39;00m \u001b[39mNone\u001b[39;00m\n\u001b[1;32m   1088\u001b[0m     \u001b[39mwhile\u001b[39;00m \u001b[39mself\u001b[39m\u001b[39m.\u001b[39mdispatch_one_batch(iterator):\n",
      "File \u001b[0;32m~/anaconda3/lib/python3.11/site-packages/joblib/parallel.py:901\u001b[0m, in \u001b[0;36mParallel.dispatch_one_batch\u001b[0;34m(self, iterator)\u001b[0m\n\u001b[1;32m    899\u001b[0m     \u001b[39mreturn\u001b[39;00m \u001b[39mFalse\u001b[39;00m\n\u001b[1;32m    900\u001b[0m \u001b[39melse\u001b[39;00m:\n\u001b[0;32m--> 901\u001b[0m     \u001b[39mself\u001b[39m\u001b[39m.\u001b[39m_dispatch(tasks)\n\u001b[1;32m    902\u001b[0m     \u001b[39mreturn\u001b[39;00m \u001b[39mTrue\u001b[39;00m\n",
      "File \u001b[0;32m~/anaconda3/lib/python3.11/site-packages/joblib/parallel.py:819\u001b[0m, in \u001b[0;36mParallel._dispatch\u001b[0;34m(self, batch)\u001b[0m\n\u001b[1;32m    817\u001b[0m \u001b[39mwith\u001b[39;00m \u001b[39mself\u001b[39m\u001b[39m.\u001b[39m_lock:\n\u001b[1;32m    818\u001b[0m     job_idx \u001b[39m=\u001b[39m \u001b[39mlen\u001b[39m(\u001b[39mself\u001b[39m\u001b[39m.\u001b[39m_jobs)\n\u001b[0;32m--> 819\u001b[0m     job \u001b[39m=\u001b[39m \u001b[39mself\u001b[39m\u001b[39m.\u001b[39m_backend\u001b[39m.\u001b[39mapply_async(batch, callback\u001b[39m=\u001b[39mcb)\n\u001b[1;32m    820\u001b[0m     \u001b[39m# A job can complete so quickly than its callback is\u001b[39;00m\n\u001b[1;32m    821\u001b[0m     \u001b[39m# called before we get here, causing self._jobs to\u001b[39;00m\n\u001b[1;32m    822\u001b[0m     \u001b[39m# grow. To ensure correct results ordering, .insert is\u001b[39;00m\n\u001b[1;32m    823\u001b[0m     \u001b[39m# used (rather than .append) in the following line\u001b[39;00m\n\u001b[1;32m    824\u001b[0m     \u001b[39mself\u001b[39m\u001b[39m.\u001b[39m_jobs\u001b[39m.\u001b[39minsert(job_idx, job)\n",
      "File \u001b[0;32m~/anaconda3/lib/python3.11/site-packages/joblib/_parallel_backends.py:208\u001b[0m, in \u001b[0;36mSequentialBackend.apply_async\u001b[0;34m(self, func, callback)\u001b[0m\n\u001b[1;32m    206\u001b[0m \u001b[39mdef\u001b[39;00m \u001b[39mapply_async\u001b[39m(\u001b[39mself\u001b[39m, func, callback\u001b[39m=\u001b[39m\u001b[39mNone\u001b[39;00m):\n\u001b[1;32m    207\u001b[0m \u001b[39m    \u001b[39m\u001b[39m\"\"\"Schedule a func to be run\"\"\"\u001b[39;00m\n\u001b[0;32m--> 208\u001b[0m     result \u001b[39m=\u001b[39m ImmediateResult(func)\n\u001b[1;32m    209\u001b[0m     \u001b[39mif\u001b[39;00m callback:\n\u001b[1;32m    210\u001b[0m         callback(result)\n",
      "File \u001b[0;32m~/anaconda3/lib/python3.11/site-packages/joblib/_parallel_backends.py:597\u001b[0m, in \u001b[0;36mImmediateResult.__init__\u001b[0;34m(self, batch)\u001b[0m\n\u001b[1;32m    594\u001b[0m \u001b[39mdef\u001b[39;00m \u001b[39m__init__\u001b[39m(\u001b[39mself\u001b[39m, batch):\n\u001b[1;32m    595\u001b[0m     \u001b[39m# Don't delay the application, to avoid keeping the input\u001b[39;00m\n\u001b[1;32m    596\u001b[0m     \u001b[39m# arguments in memory\u001b[39;00m\n\u001b[0;32m--> 597\u001b[0m     \u001b[39mself\u001b[39m\u001b[39m.\u001b[39mresults \u001b[39m=\u001b[39m batch()\n",
      "File \u001b[0;32m~/anaconda3/lib/python3.11/site-packages/joblib/parallel.py:288\u001b[0m, in \u001b[0;36mBatchedCalls.__call__\u001b[0;34m(self)\u001b[0m\n\u001b[1;32m    284\u001b[0m \u001b[39mdef\u001b[39;00m \u001b[39m__call__\u001b[39m(\u001b[39mself\u001b[39m):\n\u001b[1;32m    285\u001b[0m     \u001b[39m# Set the default nested backend to self._backend but do not set the\u001b[39;00m\n\u001b[1;32m    286\u001b[0m     \u001b[39m# change the default number of processes to -1\u001b[39;00m\n\u001b[1;32m    287\u001b[0m     \u001b[39mwith\u001b[39;00m parallel_backend(\u001b[39mself\u001b[39m\u001b[39m.\u001b[39m_backend, n_jobs\u001b[39m=\u001b[39m\u001b[39mself\u001b[39m\u001b[39m.\u001b[39m_n_jobs):\n\u001b[0;32m--> 288\u001b[0m         \u001b[39mreturn\u001b[39;00m [func(\u001b[39m*\u001b[39margs, \u001b[39m*\u001b[39m\u001b[39m*\u001b[39mkwargs)\n\u001b[1;32m    289\u001b[0m                 \u001b[39mfor\u001b[39;00m func, args, kwargs \u001b[39min\u001b[39;00m \u001b[39mself\u001b[39m\u001b[39m.\u001b[39mitems]\n",
      "File \u001b[0;32m~/anaconda3/lib/python3.11/site-packages/joblib/parallel.py:288\u001b[0m, in \u001b[0;36m<listcomp>\u001b[0;34m(.0)\u001b[0m\n\u001b[1;32m    284\u001b[0m \u001b[39mdef\u001b[39;00m \u001b[39m__call__\u001b[39m(\u001b[39mself\u001b[39m):\n\u001b[1;32m    285\u001b[0m     \u001b[39m# Set the default nested backend to self._backend but do not set the\u001b[39;00m\n\u001b[1;32m    286\u001b[0m     \u001b[39m# change the default number of processes to -1\u001b[39;00m\n\u001b[1;32m    287\u001b[0m     \u001b[39mwith\u001b[39;00m parallel_backend(\u001b[39mself\u001b[39m\u001b[39m.\u001b[39m_backend, n_jobs\u001b[39m=\u001b[39m\u001b[39mself\u001b[39m\u001b[39m.\u001b[39m_n_jobs):\n\u001b[0;32m--> 288\u001b[0m         \u001b[39mreturn\u001b[39;00m [func(\u001b[39m*\u001b[39margs, \u001b[39m*\u001b[39m\u001b[39m*\u001b[39mkwargs)\n\u001b[1;32m    289\u001b[0m                 \u001b[39mfor\u001b[39;00m func, args, kwargs \u001b[39min\u001b[39;00m \u001b[39mself\u001b[39m\u001b[39m.\u001b[39mitems]\n",
      "File \u001b[0;32m~/anaconda3/lib/python3.11/site-packages/sklearn/utils/parallel.py:127\u001b[0m, in \u001b[0;36m_FuncWrapper.__call__\u001b[0;34m(self, *args, **kwargs)\u001b[0m\n\u001b[1;32m    125\u001b[0m     config \u001b[39m=\u001b[39m {}\n\u001b[1;32m    126\u001b[0m \u001b[39mwith\u001b[39;00m config_context(\u001b[39m*\u001b[39m\u001b[39m*\u001b[39mconfig):\n\u001b[0;32m--> 127\u001b[0m     \u001b[39mreturn\u001b[39;00m \u001b[39mself\u001b[39m\u001b[39m.\u001b[39mfunction(\u001b[39m*\u001b[39margs, \u001b[39m*\u001b[39m\u001b[39m*\u001b[39mkwargs)\n",
      "File \u001b[0;32m~/anaconda3/lib/python3.11/site-packages/sklearn/model_selection/_validation.py:732\u001b[0m, in \u001b[0;36m_fit_and_score\u001b[0;34m(estimator, X, y, scorer, train, test, verbose, parameters, fit_params, return_train_score, return_parameters, return_n_test_samples, return_times, return_estimator, split_progress, candidate_progress, error_score)\u001b[0m\n\u001b[1;32m    730\u001b[0m         estimator\u001b[39m.\u001b[39mfit(X_train, \u001b[39m*\u001b[39m\u001b[39m*\u001b[39mfit_params)\n\u001b[1;32m    731\u001b[0m     \u001b[39melse\u001b[39;00m:\n\u001b[0;32m--> 732\u001b[0m         estimator\u001b[39m.\u001b[39mfit(X_train, y_train, \u001b[39m*\u001b[39m\u001b[39m*\u001b[39mfit_params)\n\u001b[1;32m    734\u001b[0m \u001b[39mexcept\u001b[39;00m \u001b[39mException\u001b[39;00m:\n\u001b[1;32m    735\u001b[0m     \u001b[39m# Note fit time as time until error\u001b[39;00m\n\u001b[1;32m    736\u001b[0m     fit_time \u001b[39m=\u001b[39m time\u001b[39m.\u001b[39mtime() \u001b[39m-\u001b[39m start_time\n",
      "File \u001b[0;32m~/anaconda3/lib/python3.11/site-packages/lightgbm/sklearn.py:1049\u001b[0m, in \u001b[0;36mLGBMRegressor.fit\u001b[0;34m(self, X, y, sample_weight, init_score, eval_set, eval_names, eval_sample_weight, eval_init_score, eval_metric, feature_name, categorical_feature, callbacks, init_model)\u001b[0m\n\u001b[1;32m   1032\u001b[0m \u001b[39mdef\u001b[39;00m \u001b[39mfit\u001b[39m(  \u001b[39m# type: ignore[override]\u001b[39;00m\n\u001b[1;32m   1033\u001b[0m     \u001b[39mself\u001b[39m,\n\u001b[1;32m   1034\u001b[0m     X: _LGBM_ScikitMatrixLike,\n\u001b[0;32m   (...)\u001b[0m\n\u001b[1;32m   1046\u001b[0m     init_model: Optional[Union[\u001b[39mstr\u001b[39m, Path, Booster, LGBMModel]] \u001b[39m=\u001b[39m \u001b[39mNone\u001b[39;00m\n\u001b[1;32m   1047\u001b[0m ) \u001b[39m-\u001b[39m\u001b[39m>\u001b[39m \u001b[39m\"\u001b[39m\u001b[39mLGBMRegressor\u001b[39m\u001b[39m\"\u001b[39m:\n\u001b[1;32m   1048\u001b[0m \u001b[39m    \u001b[39m\u001b[39m\"\"\"Docstring is inherited from the LGBMModel.\"\"\"\u001b[39;00m\n\u001b[0;32m-> 1049\u001b[0m     \u001b[39msuper\u001b[39m()\u001b[39m.\u001b[39mfit(\n\u001b[1;32m   1050\u001b[0m         X,\n\u001b[1;32m   1051\u001b[0m         y,\n\u001b[1;32m   1052\u001b[0m         sample_weight\u001b[39m=\u001b[39msample_weight,\n\u001b[1;32m   1053\u001b[0m         init_score\u001b[39m=\u001b[39minit_score,\n\u001b[1;32m   1054\u001b[0m         eval_set\u001b[39m=\u001b[39meval_set,\n\u001b[1;32m   1055\u001b[0m         eval_names\u001b[39m=\u001b[39meval_names,\n\u001b[1;32m   1056\u001b[0m         eval_sample_weight\u001b[39m=\u001b[39meval_sample_weight,\n\u001b[1;32m   1057\u001b[0m         eval_init_score\u001b[39m=\u001b[39meval_init_score,\n\u001b[1;32m   1058\u001b[0m         eval_metric\u001b[39m=\u001b[39meval_metric,\n\u001b[1;32m   1059\u001b[0m         feature_name\u001b[39m=\u001b[39mfeature_name,\n\u001b[1;32m   1060\u001b[0m         categorical_feature\u001b[39m=\u001b[39mcategorical_feature,\n\u001b[1;32m   1061\u001b[0m         callbacks\u001b[39m=\u001b[39mcallbacks,\n\u001b[1;32m   1062\u001b[0m         init_model\u001b[39m=\u001b[39minit_model\n\u001b[1;32m   1063\u001b[0m     )\n\u001b[1;32m   1064\u001b[0m     \u001b[39mreturn\u001b[39;00m \u001b[39mself\u001b[39m\n",
      "File \u001b[0;32m~/anaconda3/lib/python3.11/site-packages/lightgbm/sklearn.py:842\u001b[0m, in \u001b[0;36mLGBMModel.fit\u001b[0;34m(self, X, y, sample_weight, init_score, group, eval_set, eval_names, eval_sample_weight, eval_class_weight, eval_init_score, eval_group, eval_metric, feature_name, categorical_feature, callbacks, init_model)\u001b[0m\n\u001b[1;32m    839\u001b[0m evals_result: _EvalResultDict \u001b[39m=\u001b[39m {}\n\u001b[1;32m    840\u001b[0m callbacks\u001b[39m.\u001b[39mappend(record_evaluation(evals_result))\n\u001b[0;32m--> 842\u001b[0m \u001b[39mself\u001b[39m\u001b[39m.\u001b[39m_Booster \u001b[39m=\u001b[39m train(\n\u001b[1;32m    843\u001b[0m     params\u001b[39m=\u001b[39mparams,\n\u001b[1;32m    844\u001b[0m     train_set\u001b[39m=\u001b[39mtrain_set,\n\u001b[1;32m    845\u001b[0m     num_boost_round\u001b[39m=\u001b[39m\u001b[39mself\u001b[39m\u001b[39m.\u001b[39mn_estimators,\n\u001b[1;32m    846\u001b[0m     valid_sets\u001b[39m=\u001b[39mvalid_sets,\n\u001b[1;32m    847\u001b[0m     valid_names\u001b[39m=\u001b[39meval_names,\n\u001b[1;32m    848\u001b[0m     feval\u001b[39m=\u001b[39meval_metrics_callable,  \u001b[39m# type: ignore[arg-type]\u001b[39;00m\n\u001b[1;32m    849\u001b[0m     init_model\u001b[39m=\u001b[39minit_model,\n\u001b[1;32m    850\u001b[0m     feature_name\u001b[39m=\u001b[39mfeature_name,\n\u001b[1;32m    851\u001b[0m     callbacks\u001b[39m=\u001b[39mcallbacks\n\u001b[1;32m    852\u001b[0m )\n\u001b[1;32m    854\u001b[0m \u001b[39mself\u001b[39m\u001b[39m.\u001b[39m_evals_result \u001b[39m=\u001b[39m evals_result\n\u001b[1;32m    855\u001b[0m \u001b[39mself\u001b[39m\u001b[39m.\u001b[39m_best_iteration \u001b[39m=\u001b[39m \u001b[39mself\u001b[39m\u001b[39m.\u001b[39m_Booster\u001b[39m.\u001b[39mbest_iteration\n",
      "File \u001b[0;32m~/anaconda3/lib/python3.11/site-packages/lightgbm/engine.py:276\u001b[0m, in \u001b[0;36mtrain\u001b[0;34m(params, train_set, num_boost_round, valid_sets, valid_names, feval, init_model, feature_name, categorical_feature, keep_training_booster, callbacks)\u001b[0m\n\u001b[1;32m    268\u001b[0m \u001b[39mfor\u001b[39;00m cb \u001b[39min\u001b[39;00m callbacks_before_iter:\n\u001b[1;32m    269\u001b[0m     cb(callback\u001b[39m.\u001b[39mCallbackEnv(model\u001b[39m=\u001b[39mbooster,\n\u001b[1;32m    270\u001b[0m                             params\u001b[39m=\u001b[39mparams,\n\u001b[1;32m    271\u001b[0m                             iteration\u001b[39m=\u001b[39mi,\n\u001b[1;32m    272\u001b[0m                             begin_iteration\u001b[39m=\u001b[39minit_iteration,\n\u001b[1;32m    273\u001b[0m                             end_iteration\u001b[39m=\u001b[39minit_iteration \u001b[39m+\u001b[39m num_boost_round,\n\u001b[1;32m    274\u001b[0m                             evaluation_result_list\u001b[39m=\u001b[39m\u001b[39mNone\u001b[39;00m))\n\u001b[0;32m--> 276\u001b[0m booster\u001b[39m.\u001b[39mupdate(fobj\u001b[39m=\u001b[39mfobj)\n\u001b[1;32m    278\u001b[0m evaluation_result_list: List[_LGBM_BoosterEvalMethodResultType] \u001b[39m=\u001b[39m []\n\u001b[1;32m    279\u001b[0m \u001b[39m# check evaluation result.\u001b[39;00m\n",
      "File \u001b[0;32m~/anaconda3/lib/python3.11/site-packages/lightgbm/basic.py:3658\u001b[0m, in \u001b[0;36mBooster.update\u001b[0;34m(self, train_set, fobj)\u001b[0m\n\u001b[1;32m   3656\u001b[0m \u001b[39mif\u001b[39;00m \u001b[39mself\u001b[39m\u001b[39m.\u001b[39m__set_objective_to_none:\n\u001b[1;32m   3657\u001b[0m     \u001b[39mraise\u001b[39;00m LightGBMError(\u001b[39m'\u001b[39m\u001b[39mCannot update due to null objective function.\u001b[39m\u001b[39m'\u001b[39m)\n\u001b[0;32m-> 3658\u001b[0m _safe_call(_LIB\u001b[39m.\u001b[39mLGBM_BoosterUpdateOneIter(\n\u001b[1;32m   3659\u001b[0m     \u001b[39mself\u001b[39m\u001b[39m.\u001b[39m_handle,\n\u001b[1;32m   3660\u001b[0m     ctypes\u001b[39m.\u001b[39mbyref(is_finished)))\n\u001b[1;32m   3661\u001b[0m \u001b[39mself\u001b[39m\u001b[39m.\u001b[39m__is_predicted_cur_iter \u001b[39m=\u001b[39m [\u001b[39mFalse\u001b[39;00m \u001b[39mfor\u001b[39;00m _ \u001b[39min\u001b[39;00m \u001b[39mrange\u001b[39m(\u001b[39mself\u001b[39m\u001b[39m.\u001b[39m__num_dataset)]\n\u001b[1;32m   3662\u001b[0m \u001b[39mreturn\u001b[39;00m is_finished\u001b[39m.\u001b[39mvalue \u001b[39m==\u001b[39m \u001b[39m1\u001b[39m\n",
      "\u001b[0;31mKeyboardInterrupt\u001b[0m: "
     ]
    }
   ],
   "source": [
    "result = cross_validate(\n",
    "    estimator=lgb.LGBMRegressor(**best_params, random_state=42),\n",
    "    X=df_train.drop(columns=[\"target\"]), \n",
    "    y=df_train[\"target\"],\n",
    "    scoring=\"neg_mean_absolute_error\",\n",
    "    cv=MonthlyKFold(1),\n",
    ")\n",
    "\n",
    "print(f\"Fit Time(s): {result['fit_time'].mean():.3f}\")\n",
    "print(f\"Score Time(s): {result['score_time'].mean():.3f}\")\n",
    "print(f\"Error(MAE): {-result['test_score'].mean():.3f}\")"
   ]
  },
  {
   "cell_type": "markdown",
   "id": "a4812115",
   "metadata": {
    "papermill": {
     "duration": 0.008894,
     "end_time": "2023-11-20T11:30:44.184507",
     "exception": false,
     "start_time": "2023-11-20T11:30:44.175613",
     "status": "completed"
    },
    "tags": []
   },
   "source": [
    "### Training"
   ]
  },
  {
   "cell_type": "code",
   "execution_count": 14,
   "id": "31691aa8",
   "metadata": {
    "execution": {
     "iopub.execute_input": "2023-11-20T11:30:44.204822Z",
     "iopub.status.busy": "2023-11-20T11:30:44.204382Z",
     "iopub.status.idle": "2023-11-20T11:59:45.460782Z",
     "shell.execute_reply": "2023-11-20T11:59:45.459516Z"
    },
    "papermill": {
     "duration": 1741.270743,
     "end_time": "2023-11-20T11:59:45.464294",
     "exception": false,
     "start_time": "2023-11-20T11:30:44.193551",
     "status": "completed"
    },
    "tags": []
   },
   "outputs": [
    {
     "name": "stderr",
     "output_type": "stream",
     "text": [
      "/Users/sekishunfutoshi/anaconda3/lib/python3.11/site-packages/lightgbm/engine.py:172: UserWarning: Found `n_iter` in params. Will use it instead of argument\n",
      "  _log_warning(f\"Found `{alias}` in params. Will use it instead of argument\")\n",
      "/Users/sekishunfutoshi/anaconda3/lib/python3.11/site-packages/lightgbm/engine.py:172: UserWarning: Found `n_iter` in params. Will use it instead of argument\n",
      "  _log_warning(f\"Found `{alias}` in params. Will use it instead of argument\")\n",
      "/Users/sekishunfutoshi/anaconda3/lib/python3.11/site-packages/lightgbm/engine.py:172: UserWarning: Found `n_iter` in params. Will use it instead of argument\n",
      "  _log_warning(f\"Found `{alias}` in params. Will use it instead of argument\")\n",
      "/Users/sekishunfutoshi/anaconda3/lib/python3.11/site-packages/lightgbm/engine.py:172: UserWarning: Found `n_iter` in params. Will use it instead of argument\n",
      "  _log_warning(f\"Found `{alias}` in params. Will use it instead of argument\")\n",
      "/Users/sekishunfutoshi/anaconda3/lib/python3.11/site-packages/lightgbm/engine.py:172: UserWarning: Found `n_iter` in params. Will use it instead of argument\n",
      "  _log_warning(f\"Found `{alias}` in params. Will use it instead of argument\")\n"
     ]
    }
   ],
   "source": [
    "if load_path is not None:\n",
    "    model = pickle.load(open(load_path, \"rb\"))\n",
    "else:\n",
    "    model = VotingRegressor([\n",
    "        ('lgb_1', lgb.LGBMRegressor(**best_params, random_state=100)), \n",
    "        ('lgb_2', lgb.LGBMRegressor(**best_params, random_state=101)), \n",
    "        ('lgb_3', lgb.LGBMRegressor(**best_params, random_state=102)), \n",
    "        ('lgb_4', lgb.LGBMRegressor(**best_params, random_state=103)), \n",
    "        ('lgb_5', lgb.LGBMRegressor(**best_params, random_state=104)), \n",
    "    ])\n",
    "    \n",
    "    model.fit(\n",
    "        X=df_train.drop(columns=[\"target\"]),\n",
    "        y=df_train[\"target\"]\n",
    "    )\n",
    "\n",
    "if save_path is not None:\n",
    "    with open(save_path, \"wb\") as f:\n",
    "        pickle.dump(model, f)"
   ]
  },
  {
   "cell_type": "markdown",
   "id": "34fdd6dd",
   "metadata": {
    "papermill": {
     "duration": 0.009042,
     "end_time": "2023-11-20T11:59:45.483417",
     "exception": false,
     "start_time": "2023-11-20T11:59:45.474375",
     "status": "completed"
    },
    "tags": []
   },
   "source": [
    "### Prediction"
   ]
  },
  {
   "cell_type": "code",
   "execution_count": 21,
   "id": "b72af489",
   "metadata": {
    "execution": {
     "iopub.execute_input": "2023-11-20T11:59:45.503882Z",
     "iopub.status.busy": "2023-11-20T11:59:45.503485Z",
     "iopub.status.idle": "2023-11-20T11:59:45.535900Z",
     "shell.execute_reply": "2023-11-20T11:59:45.534968Z"
    },
    "papermill": {
     "duration": 0.045881,
     "end_time": "2023-11-20T11:59:45.538759",
     "exception": false,
     "start_time": "2023-11-20T11:59:45.492878",
     "status": "completed"
    },
    "tags": []
   },
   "outputs": [],
   "source": [
    "import public_timeseries_testing_util as enefit\n",
    "\n",
    "env = enefit.make_env()\n",
    "iter_test = env.iter_test()"
   ]
  },
  {
   "cell_type": "code",
   "execution_count": 22,
   "id": "2283717c",
   "metadata": {
    "execution": {
     "iopub.execute_input": "2023-11-20T11:59:45.559656Z",
     "iopub.status.busy": "2023-11-20T11:59:45.558744Z",
     "iopub.status.idle": "2023-11-20T12:00:16.148615Z",
     "shell.execute_reply": "2023-11-20T12:00:16.147298Z"
    },
    "papermill": {
     "duration": 30.603789,
     "end_time": "2023-11-20T12:00:16.151879",
     "exception": false,
     "start_time": "2023-11-20T11:59:45.548090",
     "status": "completed"
    },
    "tags": []
   },
   "outputs": [],
   "source": [
    "for (test, revealed_targets, client, historical_weather,\n",
    "        forecast_weather, electricity_prices, gas_prices, sample_prediction) in iter_test:\n",
    "    \n",
    "    test = test.rename(columns={\"prediction_datetime\": \"datetime\"})\n",
    "    test['datetime'] = pd.to_datetime(test['datetime'])\n",
    "    electricity_prices['forecast_date'] = pd.to_datetime(electricity_prices['forecast_date'])\n",
    "    electricity_prices['origin_date'] = pd.to_datetime(electricity_prices['origin_date'])\n",
    "    forecast_weather['origin_datetime'] = pd.to_datetime(forecast_weather['origin_datetime'])\n",
    "    forecast_weather['forecast_datetime'] = pd.to_datetime(forecast_weather['forecast_datetime'])\n",
    "    historical_weather['datetime'] = pd.to_datetime(historical_weather['datetime'])\n",
    "    revealed_targets['datetime'] = pd.to_datetime(revealed_targets['datetime'])\n",
    "    \n",
    "    df_test           = pl.from_pandas(test[data_cols[1:]], schema_overrides=schema_data)\n",
    "    df_client         = pl.from_pandas(client[client_cols], schema_overrides=schema_client)\n",
    "    df_gas            = pl.from_pandas(gas_prices[gas_cols], schema_overrides=schema_gas)\n",
    "    df_electricity    = pl.from_pandas(electricity_prices[electricity_cols], schema_overrides=schema_electricity)\n",
    "    df_new_forecast   = pl.from_pandas(forecast_weather[forecast_cols], schema_overrides=schema_forecast)\n",
    "    df_new_historical = pl.from_pandas(historical_weather[historical_cols], schema_overrides=schema_historical)\n",
    "    df_new_target     = pl.from_pandas(revealed_targets[target_cols], schema_overrides=schema_target)\n",
    "    \n",
    "    df_forecast       = pl.concat([df_forecast, df_new_forecast]).unique()\n",
    "    df_historical     = pl.concat([df_historical, df_new_historical]).unique()\n",
    "    df_target         = pl.concat([df_target, df_new_target]).unique()\n",
    "    \n",
    "    X_test = feature_eng(df_test, df_client, df_gas, df_electricity, df_forecast, df_historical, df_location, df_target)\n",
    "    X_test = to_pandas(X_test)\n",
    "    \n",
    "    sample_prediction[\"target\"] = model.predict(X_test).clip(0)\n",
    "    \n",
    "    env.predict(sample_prediction)"
   ]
  },
  {
   "cell_type": "code",
   "execution_count": null,
   "id": "f980e2e9",
   "metadata": {
    "papermill": {
     "duration": 0.009648,
     "end_time": "2023-11-20T12:00:16.171620",
     "exception": false,
     "start_time": "2023-11-20T12:00:16.161972",
     "status": "completed"
    },
    "tags": []
   },
   "outputs": [],
   "source": []
  }
 ],
 "metadata": {
  "kaggle": {
   "accelerator": "none",
   "dataSources": [
    {
     "databundleVersionId": 7056256,
     "sourceId": 57236,
     "sourceType": "competition"
    }
   ],
   "dockerImageVersionId": 30587,
   "isGpuEnabled": false,
   "isInternetEnabled": false,
   "language": "python",
   "sourceType": "notebook"
  },
  "kernelspec": {
   "display_name": "Python 3",
   "language": "python",
   "name": "python3"
  },
  "language_info": {
   "codemirror_mode": {
    "name": "ipython",
    "version": 3
   },
   "file_extension": ".py",
   "mimetype": "text/x-python",
   "name": "python",
   "nbconvert_exporter": "python",
   "pygments_lexer": "ipython3",
   "version": "3.11.6"
  },
  "papermill": {
   "default_parameters": {},
   "duration": 1814.332783,
   "end_time": "2023-11-20T12:00:17.311934",
   "environment_variables": {},
   "exception": null,
   "input_path": "__notebook__.ipynb",
   "output_path": "__notebook__.ipynb",
   "parameters": {},
   "start_time": "2023-11-20T11:30:02.979151",
   "version": "2.4.0"
  }
 },
 "nbformat": 4,
 "nbformat_minor": 5
}
